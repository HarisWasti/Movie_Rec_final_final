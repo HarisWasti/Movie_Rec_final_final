{
 "cells": [
  {
   "cell_type": "code",
   "execution_count": 86,
   "id": "0475df6e",
   "metadata": {},
   "outputs": [],
   "source": [
    "import os\n",
    "import pandas as pd\n",
    "import numpy as np\n",
    "import re\n",
    "import scipy.sparse as sp\n",
    "from scipy.sparse import csr_matrix\n",
    "from sklearn.feature_extraction.text import TfidfVectorizer\n",
    "from sklearn.metrics.pairwise import cosine_similarity\n",
    "from sklearn.preprocessing import MinMaxScaler\n",
    "from difflib import get_close_matches\n",
    "from tabulate import tabulate"
   ]
  },
  {
   "cell_type": "code",
   "execution_count": 87,
   "id": "85156c65",
   "metadata": {},
   "outputs": [],
   "source": [
    "save_dir = \"C:\\\\Users\\\\haris\\\\OneDrive\\\\Desktop\\\\Movie_rec_full\"\n",
    "os.makedirs(save_dir, exist_ok=True)"
   ]
  },
  {
   "cell_type": "code",
   "execution_count": 88,
   "id": "c84b6f90",
   "metadata": {},
   "outputs": [],
   "source": [
    "df_full = pd.read_csv('df_sample.csv')\n",
    "extra_values_full = pd.read_csv('extra_values.csv')"
   ]
  },
  {
   "cell_type": "code",
   "execution_count": 89,
   "id": "281fdadd",
   "metadata": {},
   "outputs": [],
   "source": [
    "df_full.to_csv(os.path.join(save_dir, \"df_full.csv\"), index=False)\n",
    "extra_values_full.to_csv(os.path.join(save_dir, \"extra_values_full.csv\"), index=False)"
   ]
  },
  {
   "cell_type": "code",
   "execution_count": 90,
   "id": "74218668",
   "metadata": {},
   "outputs": [],
   "source": [
    "df_full = pd.read_csv(os.path.join(save_dir, \"df_full.csv\"))\n",
    "extra_values_full = pd.read_csv(os.path.join(save_dir, \"extra_values_full.csv\"))"
   ]
  },
  {
   "cell_type": "code",
   "execution_count": 91,
   "id": "36b96277",
   "metadata": {},
   "outputs": [],
   "source": [
    "valid_tmdb_ids = set(extra_values_full['tmdbId'])\n",
    "df_full = df_full[df_full['tmdbId'].isin(valid_tmdb_ids)].copy()\n",
    "df_full['tmdbId'] = df_full['tmdbId'].astype(int)\n",
    "extra_values_full['tmdbId'] = extra_values_full['tmdbId'].astype(int)"
   ]
  },
  {
   "cell_type": "code",
   "execution_count": 92,
   "id": "14413814",
   "metadata": {},
   "outputs": [],
   "source": [
    "df_full = df_full[df_full['tmdbId'].isin(valid_tmdb_ids)].copy()"
   ]
  },
  {
   "cell_type": "code",
   "execution_count": 93,
   "id": "e461a64c",
   "metadata": {},
   "outputs": [],
   "source": [
    "movieId_to_tmdbId = df_full.drop_duplicates('movieId').set_index('movieId')['tmdbId'].to_dict()\n",
    "tmdbId_to_movieId = df_full.drop_duplicates('tmdbId').set_index('tmdbId')['movieId'].to_dict()"
   ]
  },
  {
   "cell_type": "code",
   "execution_count": 94,
   "id": "617a5c44",
   "metadata": {},
   "outputs": [],
   "source": [
    "genres = df_full[['tmdbId', 'genres']].drop_duplicates()\n",
    "extra_values_full = extra_values_full.merge(genres, on='tmdbId', how='left')\n",
    "extra_values_full['genres'] = extra_values_full['genres'].fillna(\"\").astype(str).str.replace(r'[\\[\\]\\']', '', regex=True)\n",
    "extra_values_full['movieId'] = extra_values_full['tmdbId'].map(tmdbId_to_movieId)"
   ]
  },
  {
   "cell_type": "code",
   "execution_count": 95,
   "id": "3e57e292",
   "metadata": {},
   "outputs": [],
   "source": [
    "def clean_description(desc):\n",
    "    desc = str(desc).lower()\n",
    "    desc = re.sub(r\"[^a-z0-9\\s]\", \"\", desc)\n",
    "    desc = re.sub(r\"\\s+\", \" \", desc)\n",
    "    return desc.strip()\n",
    "\n",
    "def clean_title(text):\n",
    "    text = str(text).lower()\n",
    "    text = re.sub(r'[^a-z0-9 ]', '', text)\n",
    "    return text.strip()\n",
    "\n",
    "def clean_name(text):\n",
    "    text = str(text).lower()\n",
    "    text = re.sub(r'[^a-z0-9 ]', '', text)\n",
    "    text = re.sub(r'\\s+', ' ', text)\n",
    "    return text.strip()\n",
    "\n",
    "def clean_genres(genres_str):\n",
    "    text = re.sub(r'[\\[\\]\\'\\\"]', '', str(genres_str)).lower()\n",
    "    text = text.replace(',', ' ')\n",
    "    return text.strip()"
   ]
  },
  {
   "cell_type": "code",
   "execution_count": 96,
   "id": "884eac06",
   "metadata": {},
   "outputs": [],
   "source": [
    "# Apply cleaning\n",
    "extra_values_full['title'] = extra_values_full['title'].fillna('').apply(clean_title)\n",
    "extra_values_full['description'] = extra_values_full['description'].fillna('').apply(clean_description)\n",
    "extra_values_full['genres'] = extra_values_full['genres'].fillna('').apply(clean_genres)\n",
    "for col in ['director', 'actor1', 'actor2', 'actor3']:\n",
    "    extra_values_full[col] = extra_values_full[col].fillna('').apply(clean_name)"
   ]
  },
  {
   "cell_type": "code",
   "execution_count": 97,
   "id": "9ad0f271",
   "metadata": {},
   "outputs": [],
   "source": [
    "def create_text_soup(row):\n",
    "    return ' '.join([\n",
    "        (row['title'] + ' ') * 3,\n",
    "        (row['genres'] + ' ') * 3,\n",
    "        (row['director'] + ' ') * 2,\n",
    "        row['description'],\n",
    "        (row['actor1'] + ' ') * 2,\n",
    "        row['actor2'],\n",
    "        row['actor3']\n",
    "    ])\n"
   ]
  },
  {
   "cell_type": "code",
   "execution_count": 98,
   "id": "1eab23f8",
   "metadata": {},
   "outputs": [],
   "source": [
    "shared_tmdb_ids = df_full['tmdbId'].unique()\n",
    "extra_values_filtered = extra_values_full[extra_values_full['tmdbId'].isin(shared_tmdb_ids)].drop_duplicates('tmdbId').reset_index(drop=True)\n",
    "extra_values_filtered['text_soup'] = extra_values_filtered.apply(create_text_soup, axis=1)\n",
    "\n",
    "tfidf_vectorizer = TfidfVectorizer(\n",
    "    ngram_range=(1, 2),\n",
    "    max_features=10000,\n",
    "    stop_words='english',\n",
    "    strip_accents='unicode'\n",
    ")\n",
    "tfidf_matrix = tfidf_vectorizer.fit_transform(extra_values_filtered['text_soup'])\n",
    "tfidf_index = pd.Series(extra_values_filtered.index, index=extra_values_filtered['tmdbId']).drop_duplicates()\n"
   ]
  },
  {
   "cell_type": "code",
   "execution_count": 99,
   "id": "e4fdfc4c",
   "metadata": {},
   "outputs": [],
   "source": [
    "def get_tfidf_recommendations(tmdb_id, top_n=10):\n",
    "    if tmdb_id not in tfidf_index:\n",
    "        return []\n",
    "    idx = tfidf_index[tmdb_id]\n",
    "    query_vec = tfidf_matrix[idx]\n",
    "    similarity = cosine_similarity(query_vec, tfidf_matrix).flatten()\n",
    "    similar_indices = similarity.argsort()[::-1][1:top_n+1]\n",
    "    return extra_values_filtered.iloc[similar_indices][['movieId', 'tmdbId', 'title', 'genres', 'director']]\n"
   ]
  },
  {
   "cell_type": "code",
   "execution_count": 100,
   "id": "6756ed2a",
   "metadata": {},
   "outputs": [
    {
     "name": "stdout",
     "output_type": "stream",
     "text": [
      "      movieId  tmdbId                              title  \\\n",
      "1585     3114     863                        toy story 2   \n",
      "7624   115879   82424          toy story toons small fry   \n",
      "6799    78499   10193                        toy story 3   \n",
      "8181   201588  301528                        toy story 4   \n",
      "7610   115875   77887  toy story toons hawaiian vacation   \n",
      "7241   120474  256835         toy story that time forgot   \n",
      "6576   106022  213121                toy story of terror   \n",
      "8655   166461  277834                              moana   \n",
      "8853   213207  508439                             onward   \n",
      "535      2294    8916                               antz   \n",
      "\n",
      "                                                genres       director  \n",
      "1585       adventure|animation|children|comedy|fantasy  john lasseter  \n",
      "7624       adventure|animation|children|comedy|fantasy  angus maclane  \n",
      "6799  adventure|animation|children|comedy|fantasy|imax    lee unkrich  \n",
      "8181               adventure|animation|children|comedy    josh cooley  \n",
      "7610       adventure|animation|children|comedy|fantasy  gary rydstrom  \n",
      "7241                                animation|children  steve purcell  \n",
      "6576                         animation|children|comedy  angus maclane  \n",
      "8655       adventure|animation|children|comedy|fantasy   ron clements  \n",
      "8853       adventure|animation|children|comedy|fantasy    dan scanlon  \n",
      "535        adventure|animation|children|comedy|fantasy   eric darnell  \n"
     ]
    }
   ],
   "source": [
    "# --- Test TF-IDF\n",
    "toy_story_tmdbid = 862\n",
    "print(get_tfidf_recommendations(toy_story_tmdbid))"
   ]
  },
  {
   "cell_type": "code",
   "execution_count": 101,
   "id": "296c03d8",
   "metadata": {},
   "outputs": [],
   "source": [
    "def train_ease(df, lambda_=10.0, user_map=None, item_map=None, topk=100):\n",
    "    if user_map is None:\n",
    "        user_map = {uid: idx for idx, uid in enumerate(df['userId'].unique())}\n",
    "    if item_map is None:\n",
    "        item_map = {mid: idx for idx, mid in enumerate(df['movieId'].unique())}\n",
    "    idx2item = {v: k for k, v in item_map.items()}\n",
    "\n",
    "    item_popularity = df['movieId'].value_counts()\n",
    "    item_weights = 1 / np.sqrt(item_popularity)\n",
    "    df['ease_weight'] = df['movieId'].map(item_weights)\n",
    "\n",
    "    rows = df['userId'].map(user_map)\n",
    "    cols = df['movieId'].map(item_map)\n",
    "    data = df['ease_weight'].values\n",
    "\n",
    "    X = sp.csr_matrix((data, (rows, cols)), shape=(len(user_map), len(item_map)))\n",
    "    G = X.T @ X\n",
    "    G = G.toarray()\n",
    "    diag = np.diag_indices_from(G)\n",
    "    G[diag] += lambda_\n",
    "    P = np.linalg.inv(G)\n",
    "    B = P / (-np.diag(P)[:, None])\n",
    "    B[diag] = 0\n",
    "\n",
    "    if topk is not None:\n",
    "        for i in range(B.shape[0]):\n",
    "            row = B[i]\n",
    "            if np.count_nonzero(row) > topk:\n",
    "                top_k_idx = np.argpartition(row, -topk)[-topk:]\n",
    "                mask = np.ones_like(row, dtype=bool)\n",
    "                mask[top_k_idx] = False\n",
    "                B[i, mask] = 0.0\n",
    "        B = csr_matrix(B)\n",
    "\n",
    "    return B, user_map, item_map, idx2item\n",
    "\n",
    "ease_B, ease_user_map, ease_item_map, ease_idx2item = train_ease(df_full, lambda_=10, topk=100)\n",
    "\n",
    "rows = df_full['userId'].map(ease_user_map)\n",
    "cols = df_full['movieId'].map(ease_item_map)\n",
    "data = df_full['ease_weight'].values\n",
    "\n",
    "X_full = sp.csr_matrix((data, (rows, cols)), shape=(len(ease_user_map), len(ease_item_map)))\n",
    "ease_all_scores = X_full @ ease_B\n",
    "if sp.issparse(ease_all_scores):\n",
    "    ease_all_scores = ease_all_scores.toarray()\n",
    "\n",
    "scaler = MinMaxScaler()\n",
    "ease_all_scores = scaler.fit_transform(ease_all_scores)\n"
   ]
  },
  {
   "cell_type": "code",
   "execution_count": 102,
   "id": "8d30fe3f",
   "metadata": {},
   "outputs": [],
   "source": [
    "def get_hybrid_recommendations(user_id, top_n=10, weight_content=0.6):\n",
    "    scores = {}\n",
    "\n",
    "    if user_id in ease_user_map:\n",
    "        u_idx = ease_user_map[user_id]\n",
    "        ease_scores = ease_all_scores[u_idx].copy()\n",
    "        seen_movies = df_full[df_full['userId'] == user_id]['movieId']\n",
    "        for mid in seen_movies:\n",
    "            if mid in ease_item_map:\n",
    "                ease_scores[ease_item_map[mid]] = 0.0\n",
    "        for idx, score in enumerate(ease_scores):\n",
    "            movie_id = ease_idx2item[idx]\n",
    "            tmdb_id = movieId_to_tmdbId.get(movie_id)\n",
    "            if tmdb_id:\n",
    "                scores[tmdb_id] = (1 - weight_content) * score\n",
    "\n",
    "    liked_tmdb_ids = df_full[(df_full['userId'] == user_id) & (df_full['rating'] >= 4.0)]['tmdbId']\n",
    "    liked_indices = [tfidf_index.get(tmdb_id) for tmdb_id in liked_tmdb_ids if tmdb_id in tfidf_index]\n",
    "\n",
    "    tfidf_sim = np.zeros(tfidf_matrix.shape[0])\n",
    "    for idx in liked_indices:\n",
    "        if idx is not None:\n",
    "            tfidf_sim += cosine_similarity(tfidf_matrix[idx], tfidf_matrix).flatten()\n",
    "\n",
    "    if liked_indices:\n",
    "        tfidf_sim /= len(liked_indices)\n",
    "        for idx, score in enumerate(tfidf_sim):\n",
    "            tmdb_id = extra_values_filtered.iloc[idx]['tmdbId']\n",
    "            scores[tmdb_id] = scores.get(tmdb_id, 0) + weight_content * score\n",
    "\n",
    "    ranked = sorted(scores.items(), key=lambda x: x[1], reverse=True)\n",
    "    return [tmdb for tmdb, _ in ranked[:top_n]]"
   ]
  },
  {
   "cell_type": "code",
   "execution_count": 103,
   "id": "d31da990",
   "metadata": {},
   "outputs": [],
   "source": [
    "def find_closest_movie(title_input, df=extra_values_filtered):\n",
    "    title_input = clean_title(title_input)\n",
    "    titles = df['title'].tolist()\n",
    "    matches = get_close_matches(title_input, titles, n=1, cutoff=0.5)\n",
    "    if matches:\n",
    "        match_title = matches[0]\n",
    "        result = df[df['title'] == match_title]\n",
    "        if not result.empty:\n",
    "            return result.iloc[0]['tmdbId']\n",
    "    return None\n"
   ]
  },
  {
   "cell_type": "code",
   "execution_count": 104,
   "id": "fc68fcc8",
   "metadata": {},
   "outputs": [],
   "source": [
    "def run_recommender():\n",
    "    response = input(\"Do you have a user ID? (yes/no): \").strip().lower()\n",
    "\n",
    "    if response == \"yes\":\n",
    "        try:\n",
    "            user_id = int(input(\"Enter your user ID: \").strip())\n",
    "            recs_tmdb = get_hybrid_recommendations(user_id, top_n=10)\n",
    "            if recs_tmdb:\n",
    "                display_df = extra_values_filtered[\n",
    "                    extra_values_filtered['tmdbId'].isin(recs_tmdb)\n",
    "                ][['title', 'genres', 'director']].reset_index(drop=True)\n",
    "                print(\"\\n Personalized Recommendations:\")\n",
    "                print(tabulate(display_df, headers='keys', tablefmt='fancy_grid'))\n",
    "            else:\n",
    "                print(\"No recommendations found for this user.\")\n",
    "        except ValueError:\n",
    "            print(\"Invalid user ID format.\")\n",
    "\n",
    "    elif response == \"no\":\n",
    "        selected_tmdb_ids = []\n",
    "        while True:\n",
    "            movie_title = input(\"Enter a movie you like (or type 'done' to finish): \").strip()\n",
    "            if movie_title.lower() == \"done\":\n",
    "                if selected_tmdb_ids:\n",
    "                    break\n",
    "                else:\n",
    "                    print(\"Please enter at least one movie before finishing.\")\n",
    "                    continue\n",
    "\n",
    "            tmdb_id = find_closest_movie(movie_title)\n",
    "            if tmdb_id:\n",
    "                selected_tmdb_ids.append(tmdb_id)\n",
    "                movie_name = extra_values_filtered[extra_values_filtered['tmdbId'] == tmdb_id]['title'].values[0]\n",
    "                print(f\"Added: {movie_name}\")\n",
    "            else:\n",
    "                print(\"Movie not found. Try again.\")\n",
    "\n",
    "        # Simulate collaborative filtering via EASE using a binary user-item vector\n",
    "        liked_movie_ids = [tmdbId_to_movieId[tmdb_id] for tmdb_id in selected_tmdb_ids if tmdb_id in tmdbId_to_movieId]\n",
    "        X_user = np.zeros((1, len(ease_item_map)))\n",
    "        for movie_id in liked_movie_ids:\n",
    "            if movie_id in ease_item_map:\n",
    "                X_user[0, ease_item_map[movie_id]] = 1.0\n",
    "\n",
    "        cf_scores = X_user @ ease_B\n",
    "        if sp.issparse(cf_scores):\n",
    "            cf_scores = cf_scores.toarray()\n",
    "        cf_scores = MinMaxScaler().fit_transform(cf_scores.reshape(1, -1)).flatten()\n",
    "\n",
    "        cf_score_map = {\n",
    "            movieId_to_tmdbId.get(ease_idx2item[idx]): score\n",
    "            for idx, score in enumerate(cf_scores)\n",
    "            if movieId_to_tmdbId.get(ease_idx2item[idx]) is not None\n",
    "        }\n",
    "\n",
    "        # Content-based similarity via TF-IDF\n",
    "        liked_indices = [tfidf_index.get(tmdb_id) for tmdb_id in selected_tmdb_ids if tmdb_id in tfidf_index]\n",
    "        tfidf_sim = np.zeros(tfidf_matrix.shape[0])\n",
    "        for idx in liked_indices:\n",
    "            if idx is not None:\n",
    "                tfidf_sim += cosine_similarity(tfidf_matrix[idx], tfidf_matrix).flatten()\n",
    "\n",
    "        if liked_indices:\n",
    "            tfidf_sim /= len(liked_indices)\n",
    "\n",
    "        # Combine CF + content scores (hybrid)\n",
    "        hybrid_scores = {}\n",
    "        for i in range(len(extra_values_filtered)):\n",
    "            tmdb_id = extra_values_filtered.iloc[i]['tmdbId']\n",
    "            content_score = tfidf_sim[i] if i < len(tfidf_sim) else 0\n",
    "            cf_score = cf_score_map.get(tmdb_id, 0)\n",
    "            hybrid_score = 0.4 * cf_score + 0.6 * content_score  # weights: 40% CF, 60% content\n",
    "            hybrid_scores[tmdb_id] = hybrid_score\n",
    "\n",
    "        # Exclude movies the user already entered\n",
    "        ranked = sorted(\n",
    "            ((tmdb, score) for tmdb, score in hybrid_scores.items() if tmdb not in selected_tmdb_ids),\n",
    "            key=lambda x: x[1],\n",
    "            reverse=True\n",
    "        )\n",
    "        rec_tmdb_ids = [tmdb for tmdb, _ in ranked[:10]]\n",
    "        recs_df = extra_values_filtered[extra_values_filtered['tmdbId'].isin(rec_tmdb_ids)]\n",
    "\n",
    "        if not recs_df.empty:\n",
    "            print(\"\\n Hybrid Recommendations Based on Your Likes:\")\n",
    "            print(tabulate(recs_df[['title', 'genres', 'director']].reset_index(drop=True), headers='keys', tablefmt='fancy_grid'))\n",
    "        else:\n",
    "            print(\"No valid recommendations found.\")\n",
    "\n",
    "    else:\n",
    "        print(\"Invalid input. Please respond with 'yes' or 'no'.\")\n"
   ]
  },
  {
   "cell_type": "code",
   "execution_count": 108,
   "id": "41c6a093",
   "metadata": {},
   "outputs": [
    {
     "name": "stdout",
     "output_type": "stream",
     "text": [
      "Do you have a user ID? (yes/no): yes\n",
      "Enter your user ID: 10\n",
      "\n",
      " Personalized Recommendations:\n",
      "╒════╤════════════════════════════════════════════╤═════════════════════════════════════════╤═════════════════╕\n",
      "│    │ title                                      │ genres                                  │ director        │\n",
      "╞════╪════════════════════════════════════════════╪═════════════════════════════════════════╪═════════════════╡\n",
      "│  0 │ xmen origins wolverine                     │ action|sci-fi|thriller                  │ gavin hood      │\n",
      "├────┼────────────────────────────────────────────┼─────────────────────────────────────────┼─────────────────┤\n",
      "│  1 │ pirates of the caribbean dead mans chest   │ action|adventure|fantasy                │ gore verbinski  │\n",
      "├────┼────────────────────────────────────────────┼─────────────────────────────────────────┼─────────────────┤\n",
      "│  2 │ hitchhikers guide to the galaxy the        │ adventure|comedy|sci-fi                 │ garth jennings  │\n",
      "├────┼────────────────────────────────────────────┼─────────────────────────────────────────┼─────────────────┤\n",
      "│  3 │ x2 xmen united                             │ action|adventure|sci-fi|thriller        │ bryan singer    │\n",
      "├────┼────────────────────────────────────────────┼─────────────────────────────────────────┼─────────────────┤\n",
      "│  4 │ matrix reloaded the                        │ action|adventure|sci-fi|thriller|imax   │ lilly wachowski │\n",
      "├────┼────────────────────────────────────────────┼─────────────────────────────────────────┼─────────────────┤\n",
      "│  5 │ star wars episode ii  attack of the clones │ action|adventure|sci-fi|imax            │ george lucas    │\n",
      "├────┼────────────────────────────────────────────┼─────────────────────────────────────────┼─────────────────┤\n",
      "│  6 │ beowulf                                    │ action|adventure|animation|fantasy|imax │ robert zemeckis │\n",
      "├────┼────────────────────────────────────────────┼─────────────────────────────────────────┼─────────────────┤\n",
      "│  7 │ incredible hulk the                        │ action|sci-fi                           │ louis leterrier │\n",
      "├────┼────────────────────────────────────────────┼─────────────────────────────────────────┼─────────────────┤\n",
      "│  8 │ avatar                                     │ action|adventure|sci-fi|imax            │ james cameron   │\n",
      "├────┼────────────────────────────────────────────┼─────────────────────────────────────────┼─────────────────┤\n",
      "│  9 │ sherlock holmes                            │ action|crime|mystery|thriller           │ guy ritchie     │\n",
      "╘════╧════════════════════════════════════════════╧═════════════════════════════════════════╧═════════════════╛\n"
     ]
    }
   ],
   "source": [
    "run_recommender()\n"
   ]
  },
  {
   "cell_type": "code",
   "execution_count": 106,
   "id": "b1a077cd",
   "metadata": {},
   "outputs": [
    {
     "name": "stdout",
     "output_type": "stream",
     "text": [
      " Unique User IDs:\n",
      "36641.0\n",
      "70379.0\n",
      "88400.0\n",
      "171266.0\n",
      "77024.0\n",
      "184662.0\n",
      "123557.0\n",
      "8032.0\n",
      "25622.0\n",
      "58077.0\n"
     ]
    }
   ],
   "source": [
    "unique_users = df_full['userId'].unique()[:10]\n",
    "print(\" Unique User IDs:\")\n",
    "for uid in unique_users:\n",
    "    print(uid)\n"
   ]
  },
  {
   "cell_type": "code",
   "execution_count": null,
   "id": "0de93904",
   "metadata": {},
   "outputs": [],
   "source": []
  },
  {
   "cell_type": "code",
   "execution_count": null,
   "id": "2ab2806f",
   "metadata": {},
   "outputs": [],
   "source": []
  },
  {
   "cell_type": "code",
   "execution_count": null,
   "id": "2cf76a6d",
   "metadata": {},
   "outputs": [],
   "source": []
  },
  {
   "cell_type": "code",
   "execution_count": null,
   "id": "f9850c27",
   "metadata": {},
   "outputs": [],
   "source": []
  }
 ],
 "metadata": {
  "kernelspec": {
   "display_name": "Python 3 (ipykernel)",
   "language": "python",
   "name": "python3"
  },
  "language_info": {
   "codemirror_mode": {
    "name": "ipython",
    "version": 3
   },
   "file_extension": ".py",
   "mimetype": "text/x-python",
   "name": "python",
   "nbconvert_exporter": "python",
   "pygments_lexer": "ipython3",
   "version": "3.11.5"
  }
 },
 "nbformat": 4,
 "nbformat_minor": 5
}
