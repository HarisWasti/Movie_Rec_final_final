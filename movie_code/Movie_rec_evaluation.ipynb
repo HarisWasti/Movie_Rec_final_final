{
 "cells": [
  {
   "cell_type": "markdown",
   "id": "0b8ec87f-e744-4614-af65-5b7c25d73c37",
   "metadata": {
    "id": "0b8ec87f-e744-4614-af65-5b7c25d73c37"
   },
   "source": [
    "# Movie Recommendation System"
   ]
  },
  {
   "cell_type": "code",
   "execution_count": 425,
   "id": "9f705ba8",
   "metadata": {
    "colab": {
     "base_uri": "https://localhost:8080/"
    },
    "id": "9f705ba8",
    "outputId": "cc33b4d8-0bd8-4588-dbed-f31129627260"
   },
   "outputs": [
    {
     "name": "stdout",
     "output_type": "stream",
     "text": [
      "^C\n",
      "Note: you may need to restart the kernel to use updated packages.\n"
     ]
    }
   ],
   "source": [
    "pip install scikit-learn==1.6.1"
   ]
  },
  {
   "cell_type": "code",
   "execution_count": 426,
   "id": "3afaf554",
   "metadata": {
    "colab": {
     "base_uri": "https://localhost:8080/"
    },
    "id": "3afaf554",
    "outputId": "395bc3fd-57e4-49e3-8fe4-f8f8b3f321b1"
   },
   "outputs": [
    {
     "name": "stdout",
     "output_type": "stream",
     "text": [
      "Requirement already satisfied: scikit-learn==1.6.1 in c:\\uow_apps\\anaconda3\\lib\\site-packages (1.6.1)\n",
      "Requirement already satisfied: numpy>=1.19.5 in c:\\uow_apps\\anaconda3\\lib\\site-packages (from scikit-learn==1.6.1) (1.24.3)\n",
      "Requirement already satisfied: scipy>=1.6.0 in c:\\uow_apps\\anaconda3\\lib\\site-packages (from scikit-learn==1.6.1) (1.11.1)\n",
      "Requirement already satisfied: joblib>=1.2.0 in c:\\uow_apps\\anaconda3\\lib\\site-packages (from scikit-learn==1.6.1) (1.2.0)\n",
      "Requirement already satisfied: threadpoolctl>=3.1.0 in c:\\uow_apps\\anaconda3\\lib\\site-packages (from scikit-learn==1.6.1) (3.6.0)\n",
      "Requirement already satisfied: sentence-transformers in c:\\uow_apps\\anaconda3\\lib\\site-packages (4.1.0)\n",
      "Requirement already satisfied: transformers<5.0.0,>=4.41.0 in c:\\uow_apps\\anaconda3\\lib\\site-packages (from sentence-transformers) (4.51.3)\n",
      "Requirement already satisfied: tqdm in c:\\uow_apps\\anaconda3\\lib\\site-packages (from sentence-transformers) (4.65.0)\n",
      "Requirement already satisfied: torch>=1.11.0 in c:\\uow_apps\\anaconda3\\lib\\site-packages (from sentence-transformers) (2.7.0)\n",
      "Requirement already satisfied: scikit-learn in c:\\uow_apps\\anaconda3\\lib\\site-packages (from sentence-transformers) (1.6.1)\n",
      "Requirement already satisfied: scipy in c:\\uow_apps\\anaconda3\\lib\\site-packages (from sentence-transformers) (1.11.1)\n",
      "Requirement already satisfied: huggingface-hub>=0.20.0 in c:\\uow_apps\\anaconda3\\lib\\site-packages (from sentence-transformers) (0.30.2)\n",
      "Requirement already satisfied: Pillow in c:\\uow_apps\\anaconda3\\lib\\site-packages (from sentence-transformers) (10.0.1)\n",
      "Requirement already satisfied: typing_extensions>=4.5.0 in c:\\uow_apps\\anaconda3\\lib\\site-packages (from sentence-transformers) (4.13.2)\n",
      "Requirement already satisfied: filelock in c:\\uow_apps\\anaconda3\\lib\\site-packages (from huggingface-hub>=0.20.0->sentence-transformers) (3.13.1)\n",
      "Requirement already satisfied: fsspec>=2023.5.0 in c:\\uow_apps\\anaconda3\\lib\\site-packages (from huggingface-hub>=0.20.0->sentence-transformers) (2025.3.2)\n",
      "Requirement already satisfied: packaging>=20.9 in c:\\uow_apps\\anaconda3\\lib\\site-packages (from huggingface-hub>=0.20.0->sentence-transformers) (23.1)\n",
      "Requirement already satisfied: pyyaml>=5.1 in c:\\uow_apps\\anaconda3\\lib\\site-packages (from huggingface-hub>=0.20.0->sentence-transformers) (6.0)\n",
      "Requirement already satisfied: requests in c:\\uow_apps\\anaconda3\\lib\\site-packages (from huggingface-hub>=0.20.0->sentence-transformers) (2.31.0)\n",
      "Requirement already satisfied: sympy>=1.13.3 in c:\\uow_apps\\anaconda3\\lib\\site-packages (from torch>=1.11.0->sentence-transformers) (1.14.0)\n",
      "Requirement already satisfied: networkx in c:\\uow_apps\\anaconda3\\lib\\site-packages (from torch>=1.11.0->sentence-transformers) (3.1)\n",
      "Requirement already satisfied: jinja2 in c:\\uow_apps\\anaconda3\\lib\\site-packages (from torch>=1.11.0->sentence-transformers) (3.1.2)\n",
      "Requirement already satisfied: colorama in c:\\uow_apps\\anaconda3\\lib\\site-packages (from tqdm->sentence-transformers) (0.4.6)\n",
      "Requirement already satisfied: numpy>=1.17 in c:\\uow_apps\\anaconda3\\lib\\site-packages (from transformers<5.0.0,>=4.41.0->sentence-transformers) (1.24.3)\n",
      "Requirement already satisfied: regex!=2019.12.17 in c:\\uow_apps\\anaconda3\\lib\\site-packages (from transformers<5.0.0,>=4.41.0->sentence-transformers) (2022.7.9)\n",
      "Requirement already satisfied: tokenizers<0.22,>=0.21 in c:\\uow_apps\\anaconda3\\lib\\site-packages (from transformers<5.0.0,>=4.41.0->sentence-transformers) (0.21.1)\n",
      "Requirement already satisfied: safetensors>=0.4.3 in c:\\uow_apps\\anaconda3\\lib\\site-packages (from transformers<5.0.0,>=4.41.0->sentence-transformers) (0.5.3)\n",
      "Requirement already satisfied: joblib>=1.2.0 in c:\\uow_apps\\anaconda3\\lib\\site-packages (from scikit-learn->sentence-transformers) (1.2.0)\n",
      "Requirement already satisfied: threadpoolctl>=3.1.0 in c:\\uow_apps\\anaconda3\\lib\\site-packages (from scikit-learn->sentence-transformers) (3.6.0)\n",
      "Requirement already satisfied: mpmath<1.4,>=1.1.0 in c:\\uow_apps\\anaconda3\\lib\\site-packages (from sympy>=1.13.3->torch>=1.11.0->sentence-transformers) (1.3.0)\n",
      "Requirement already satisfied: MarkupSafe>=2.0 in c:\\uow_apps\\anaconda3\\lib\\site-packages (from jinja2->torch>=1.11.0->sentence-transformers) (2.1.1)\n",
      "Requirement already satisfied: charset-normalizer<4,>=2 in c:\\uow_apps\\anaconda3\\lib\\site-packages (from requests->huggingface-hub>=0.20.0->sentence-transformers) (2.0.4)\n",
      "Requirement already satisfied: idna<4,>=2.5 in c:\\uow_apps\\anaconda3\\lib\\site-packages (from requests->huggingface-hub>=0.20.0->sentence-transformers) (3.4)\n",
      "Requirement already satisfied: urllib3<3,>=1.21.1 in c:\\uow_apps\\anaconda3\\lib\\site-packages (from requests->huggingface-hub>=0.20.0->sentence-transformers) (1.26.16)\n",
      "Requirement already satisfied: certifi>=2017.4.17 in c:\\uow_apps\\anaconda3\\lib\\site-packages (from requests->huggingface-hub>=0.20.0->sentence-transformers) (2023.11.17)\n"
     ]
    }
   ],
   "source": [
    "!pip install -U sentence-transformers\n"
   ]
  },
  {
   "cell_type": "code",
   "execution_count": null,
   "id": "97b5ba4c",
   "metadata": {
    "colab": {
     "base_uri": "https://localhost:8080/"
    },
    "id": "97b5ba4c",
    "outputId": "5596fe4e-1479-4463-d0a8-a1797af862bf"
   },
   "outputs": [],
   "source": [
    "pip install scikit-surprise"
   ]
  },
  {
   "cell_type": "code",
   "execution_count": null,
   "id": "8f1cbeed",
   "metadata": {
    "colab": {
     "base_uri": "https://localhost:8080/"
    },
    "id": "8f1cbeed",
    "outputId": "6d6fe1b7-6715-48f5-9f54-2e3f8f84201d"
   },
   "outputs": [],
   "source": [
    "pip install sentence-transformers\n"
   ]
  },
  {
   "cell_type": "code",
   "execution_count": 1,
   "id": "cb523854-9c3a-428e-b99f-d4cf146d9be7",
   "metadata": {
    "id": "cb523854-9c3a-428e-b99f-d4cf146d9be7"
   },
   "outputs": [],
   "source": [
    "import numpy as np\n",
    "import pandas as pd\n",
    "import matplotlib.pyplot as plt\n",
    "import seaborn as sns\n",
    "import os\n",
    "import re\n",
    "import requests\n",
    "from concurrent.futures import ThreadPoolExecutor, as_completed\n",
    "import time\n",
    "import numpy as np\n",
    "import pandas as pd\n",
    "import asyncio\n",
    "import aiohttp\n",
    "from tqdm.notebook import tqdm\n",
    "import nest_asyncio\n",
    "import glob\n",
    "from sklearn.metrics.pairwise import cosine_similarity\n",
    "from scipy.sparse import csr_matrix\n",
    "from sklearn.feature_extraction.text import TfidfVectorizer\n",
    "import pandas as pd\n",
    "from sklearn.neighbors import NearestNeighbors\n",
    "import random\n",
    "import joblib\n",
    "from tqdm import tqdm\n",
    "from concurrent.futures import ProcessPoolExecutor, as_completed\n",
    "from sklearn.metrics.pairwise import cosine_similarity\n",
    "from scipy import sparse\n",
    "import numpy as np\n",
    "import pandas as pd\n",
    "import aiohttp\n",
    "import asyncio\n",
    "from tqdm.asyncio import tqdm\n",
    "import traceback\n",
    "import pandas as pd\n",
    "from sklearn.metrics.pairwise import cosine_similarity\n",
    "from sentence_transformers import SentenceTransformer\n",
    "import pandas as pd\n",
    "import numpy as np\n",
    "from scipy.sparse import csr_matrix\n",
    "from sklearn.preprocessing import normalize"
   ]
  },
  {
   "cell_type": "code",
   "execution_count": 2,
   "id": "3DYAaouH28_X",
   "metadata": {
    "id": "3DYAaouH28_X"
   },
   "outputs": [],
   "source": [
    "# Apply for notebook environments\n",
    "nest_asyncio.apply()\n"
   ]
  },
  {
   "cell_type": "code",
   "execution_count": 3,
   "id": "0ac1d30f",
   "metadata": {
    "id": "0ac1d30f"
   },
   "outputs": [],
   "source": [
    "\n",
    "# Set your desired directory path\n",
    "save_dir = \"C:\\\\Users\\\\haris\\\\OneDrive\\\\Desktop\\\\final_project\"\n",
    "\n",
    "\n",
    "# Create the directory if it doesn't exist\n",
    "os.makedirs(save_dir, exist_ok=True)\n"
   ]
  },
  {
   "cell_type": "code",
   "execution_count": 4,
   "id": "XKMWU-QG3AdI",
   "metadata": {
    "id": "XKMWU-QG3AdI"
   },
   "outputs": [],
   "source": [
    "API_KEY = \"35c2764e71939361d5eb59cfe3197b52\""
   ]
  },
  {
   "cell_type": "code",
   "execution_count": 5,
   "id": "db163c88",
   "metadata": {
    "colab": {
     "base_uri": "https://localhost:8080/"
    },
    "id": "db163c88",
    "outputId": "2d276ad3-0af5-4d98-9a0d-320dcbf631f0"
   },
   "outputs": [
    {
     "name": "stdout",
     "output_type": "stream",
     "text": [
      "C:\\Users\\haris\\OneDrive\\Desktop\\Final_project_final\\final_project\n"
     ]
    }
   ],
   "source": [
    "print(os.getcwd())"
   ]
  },
  {
   "cell_type": "code",
   "execution_count": 6,
   "id": "60d5b1a0",
   "metadata": {
    "id": "60d5b1a0"
   },
   "outputs": [],
   "source": [
    "dfl = pd.read_csv('links.csv')"
   ]
  },
  {
   "cell_type": "code",
   "execution_count": 7,
   "id": "52ce6369",
   "metadata": {
    "id": "52ce6369"
   },
   "outputs": [],
   "source": [
    "dfm = pd.read_csv('movies.csv')"
   ]
  },
  {
   "cell_type": "code",
   "execution_count": 8,
   "id": "32f17b08",
   "metadata": {
    "id": "32f17b08"
   },
   "outputs": [],
   "source": [
    "dfr = pd.read_csv('ratings.csv')"
   ]
  },
  {
   "cell_type": "code",
   "execution_count": 9,
   "id": "9bce4ec7",
   "metadata": {
    "id": "9bce4ec7"
   },
   "outputs": [],
   "source": [
    "dft = pd.read_csv('tags.csv')"
   ]
  },
  {
   "cell_type": "code",
   "execution_count": 10,
   "id": "22a8f8a5",
   "metadata": {
    "colab": {
     "base_uri": "https://localhost:8080/"
    },
    "id": "22a8f8a5",
    "outputId": "8406f743-b65c-405d-a112-9410ec079feb"
   },
   "outputs": [
    {
     "name": "stdout",
     "output_type": "stream",
     "text": [
      "<class 'pandas.core.frame.DataFrame'>\n",
      "RangeIndex: 32000204 entries, 0 to 32000203\n",
      "Data columns (total 4 columns):\n",
      " #   Column     Dtype  \n",
      "---  ------     -----  \n",
      " 0   userId     int64  \n",
      " 1   movieId    int64  \n",
      " 2   rating     float64\n",
      " 3   timestamp  int64  \n",
      "dtypes: float64(1), int64(3)\n",
      "memory usage: 976.6 MB\n",
      "<class 'pandas.core.frame.DataFrame'>\n",
      "RangeIndex: 2000072 entries, 0 to 2000071\n",
      "Data columns (total 4 columns):\n",
      " #   Column     Dtype \n",
      "---  ------     ----- \n",
      " 0   userId     int64 \n",
      " 1   movieId    int64 \n",
      " 2   tag        object\n",
      " 3   timestamp  int64 \n",
      "dtypes: int64(3), object(1)\n",
      "memory usage: 61.0+ MB\n",
      "<class 'pandas.core.frame.DataFrame'>\n",
      "RangeIndex: 87585 entries, 0 to 87584\n",
      "Data columns (total 3 columns):\n",
      " #   Column   Non-Null Count  Dtype  \n",
      "---  ------   --------------  -----  \n",
      " 0   movieId  87585 non-null  int64  \n",
      " 1   imdbId   87585 non-null  int64  \n",
      " 2   tmdbId   87461 non-null  float64\n",
      "dtypes: float64(1), int64(2)\n",
      "memory usage: 2.0 MB\n",
      "<class 'pandas.core.frame.DataFrame'>\n",
      "RangeIndex: 87585 entries, 0 to 87584\n",
      "Data columns (total 3 columns):\n",
      " #   Column   Non-Null Count  Dtype \n",
      "---  ------   --------------  ----- \n",
      " 0   movieId  87585 non-null  int64 \n",
      " 1   title    87585 non-null  object\n",
      " 2   genres   87585 non-null  object\n",
      "dtypes: int64(1), object(2)\n",
      "memory usage: 2.0+ MB\n"
     ]
    }
   ],
   "source": [
    "dfr.info()\n",
    "dft.info()\n",
    "dfl.info()\n",
    "dfm.info()"
   ]
  },
  {
   "cell_type": "code",
   "execution_count": 11,
   "id": "a3def5f2",
   "metadata": {
    "id": "a3def5f2"
   },
   "outputs": [],
   "source": [
    "# Merging all datasets using movieId as the anchor\n",
    "df = dfl.merge(dfm, on='movieId', how='outer') \\\n",
    "               .merge(dfr, on='movieId', how='outer') \\\n",
    "               .merge(dft, on=['movieId', 'userId', 'timestamp'], how='outer')"
   ]
  },
  {
   "cell_type": "code",
   "execution_count": 12,
   "id": "0e2a5e3a",
   "metadata": {
    "id": "0e2a5e3a"
   },
   "outputs": [
    {
     "data": {
      "text/html": [
       "<div>\n",
       "<style scoped>\n",
       "    .dataframe tbody tr th:only-of-type {\n",
       "        vertical-align: middle;\n",
       "    }\n",
       "\n",
       "    .dataframe tbody tr th {\n",
       "        vertical-align: top;\n",
       "    }\n",
       "\n",
       "    .dataframe thead th {\n",
       "        text-align: right;\n",
       "    }\n",
       "</style>\n",
       "<table border=\"1\" class=\"dataframe\">\n",
       "  <thead>\n",
       "    <tr style=\"text-align: right;\">\n",
       "      <th></th>\n",
       "      <th>movieId</th>\n",
       "      <th>imdbId</th>\n",
       "      <th>tmdbId</th>\n",
       "      <th>title</th>\n",
       "      <th>genres</th>\n",
       "      <th>userId</th>\n",
       "      <th>rating</th>\n",
       "      <th>timestamp</th>\n",
       "      <th>tag</th>\n",
       "    </tr>\n",
       "  </thead>\n",
       "  <tbody>\n",
       "    <tr>\n",
       "      <th>0</th>\n",
       "      <td>1</td>\n",
       "      <td>114709.0</td>\n",
       "      <td>862.0</td>\n",
       "      <td>Toy Story (1995)</td>\n",
       "      <td>Adventure|Animation|Children|Comedy|Fantasy</td>\n",
       "      <td>10.0</td>\n",
       "      <td>2.5</td>\n",
       "      <td>1.169265e+09</td>\n",
       "      <td>NaN</td>\n",
       "    </tr>\n",
       "    <tr>\n",
       "      <th>1</th>\n",
       "      <td>1</td>\n",
       "      <td>114709.0</td>\n",
       "      <td>862.0</td>\n",
       "      <td>Toy Story (1995)</td>\n",
       "      <td>Adventure|Animation|Children|Comedy|Fantasy</td>\n",
       "      <td>11.0</td>\n",
       "      <td>3.0</td>\n",
       "      <td>8.500851e+08</td>\n",
       "      <td>NaN</td>\n",
       "    </tr>\n",
       "    <tr>\n",
       "      <th>2</th>\n",
       "      <td>1</td>\n",
       "      <td>114709.0</td>\n",
       "      <td>862.0</td>\n",
       "      <td>Toy Story (1995)</td>\n",
       "      <td>Adventure|Animation|Children|Comedy|Fantasy</td>\n",
       "      <td>17.0</td>\n",
       "      <td>4.0</td>\n",
       "      <td>1.027306e+09</td>\n",
       "      <td>NaN</td>\n",
       "    </tr>\n",
       "    <tr>\n",
       "      <th>3</th>\n",
       "      <td>1</td>\n",
       "      <td>114709.0</td>\n",
       "      <td>862.0</td>\n",
       "      <td>Toy Story (1995)</td>\n",
       "      <td>Adventure|Animation|Children|Comedy|Fantasy</td>\n",
       "      <td>19.0</td>\n",
       "      <td>3.0</td>\n",
       "      <td>9.747045e+08</td>\n",
       "      <td>NaN</td>\n",
       "    </tr>\n",
       "    <tr>\n",
       "      <th>4</th>\n",
       "      <td>1</td>\n",
       "      <td>114709.0</td>\n",
       "      <td>862.0</td>\n",
       "      <td>Toy Story (1995)</td>\n",
       "      <td>Adventure|Animation|Children|Comedy|Fantasy</td>\n",
       "      <td>20.0</td>\n",
       "      <td>5.0</td>\n",
       "      <td>1.553184e+09</td>\n",
       "      <td>NaN</td>\n",
       "    </tr>\n",
       "    <tr>\n",
       "      <th>...</th>\n",
       "      <td>...</td>\n",
       "      <td>...</td>\n",
       "      <td>...</td>\n",
       "      <td>...</td>\n",
       "      <td>...</td>\n",
       "      <td>...</td>\n",
       "      <td>...</td>\n",
       "      <td>...</td>\n",
       "      <td>...</td>\n",
       "    </tr>\n",
       "    <tr>\n",
       "      <th>34003306</th>\n",
       "      <td>90645</td>\n",
       "      <td>NaN</td>\n",
       "      <td>NaN</td>\n",
       "      <td>NaN</td>\n",
       "      <td>NaN</td>\n",
       "      <td>162279.0</td>\n",
       "      <td>NaN</td>\n",
       "      <td>1.320818e+09</td>\n",
       "      <td>Rafe Spall</td>\n",
       "    </tr>\n",
       "    <tr>\n",
       "      <th>34003307</th>\n",
       "      <td>91079</td>\n",
       "      <td>NaN</td>\n",
       "      <td>NaN</td>\n",
       "      <td>NaN</td>\n",
       "      <td>NaN</td>\n",
       "      <td>162279.0</td>\n",
       "      <td>NaN</td>\n",
       "      <td>1.322337e+09</td>\n",
       "      <td>Anton Yelchin</td>\n",
       "    </tr>\n",
       "    <tr>\n",
       "      <th>34003308</th>\n",
       "      <td>91079</td>\n",
       "      <td>NaN</td>\n",
       "      <td>NaN</td>\n",
       "      <td>NaN</td>\n",
       "      <td>NaN</td>\n",
       "      <td>162279.0</td>\n",
       "      <td>NaN</td>\n",
       "      <td>1.322337e+09</td>\n",
       "      <td>Felicity Jones</td>\n",
       "    </tr>\n",
       "    <tr>\n",
       "      <th>34003309</th>\n",
       "      <td>91658</td>\n",
       "      <td>NaN</td>\n",
       "      <td>NaN</td>\n",
       "      <td>NaN</td>\n",
       "      <td>NaN</td>\n",
       "      <td>162279.0</td>\n",
       "      <td>NaN</td>\n",
       "      <td>1.325828e+09</td>\n",
       "      <td>Rooney Mara</td>\n",
       "    </tr>\n",
       "    <tr>\n",
       "      <th>34003310</th>\n",
       "      <td>100714</td>\n",
       "      <td>NaN</td>\n",
       "      <td>NaN</td>\n",
       "      <td>NaN</td>\n",
       "      <td>NaN</td>\n",
       "      <td>162279.0</td>\n",
       "      <td>NaN</td>\n",
       "      <td>1.373095e+09</td>\n",
       "      <td>Julie Delpy</td>\n",
       "    </tr>\n",
       "  </tbody>\n",
       "</table>\n",
       "<p>34003311 rows × 9 columns</p>\n",
       "</div>"
      ],
      "text/plain": [
       "          movieId    imdbId  tmdbId             title  \\\n",
       "0               1  114709.0   862.0  Toy Story (1995)   \n",
       "1               1  114709.0   862.0  Toy Story (1995)   \n",
       "2               1  114709.0   862.0  Toy Story (1995)   \n",
       "3               1  114709.0   862.0  Toy Story (1995)   \n",
       "4               1  114709.0   862.0  Toy Story (1995)   \n",
       "...           ...       ...     ...               ...   \n",
       "34003306    90645       NaN     NaN               NaN   \n",
       "34003307    91079       NaN     NaN               NaN   \n",
       "34003308    91079       NaN     NaN               NaN   \n",
       "34003309    91658       NaN     NaN               NaN   \n",
       "34003310   100714       NaN     NaN               NaN   \n",
       "\n",
       "                                               genres    userId  rating  \\\n",
       "0         Adventure|Animation|Children|Comedy|Fantasy      10.0     2.5   \n",
       "1         Adventure|Animation|Children|Comedy|Fantasy      11.0     3.0   \n",
       "2         Adventure|Animation|Children|Comedy|Fantasy      17.0     4.0   \n",
       "3         Adventure|Animation|Children|Comedy|Fantasy      19.0     3.0   \n",
       "4         Adventure|Animation|Children|Comedy|Fantasy      20.0     5.0   \n",
       "...                                               ...       ...     ...   \n",
       "34003306                                          NaN  162279.0     NaN   \n",
       "34003307                                          NaN  162279.0     NaN   \n",
       "34003308                                          NaN  162279.0     NaN   \n",
       "34003309                                          NaN  162279.0     NaN   \n",
       "34003310                                          NaN  162279.0     NaN   \n",
       "\n",
       "             timestamp             tag  \n",
       "0         1.169265e+09             NaN  \n",
       "1         8.500851e+08             NaN  \n",
       "2         1.027306e+09             NaN  \n",
       "3         9.747045e+08             NaN  \n",
       "4         1.553184e+09             NaN  \n",
       "...                ...             ...  \n",
       "34003306  1.320818e+09      Rafe Spall  \n",
       "34003307  1.322337e+09   Anton Yelchin  \n",
       "34003308  1.322337e+09  Felicity Jones  \n",
       "34003309  1.325828e+09     Rooney Mara  \n",
       "34003310  1.373095e+09     Julie Delpy  \n",
       "\n",
       "[34003311 rows x 9 columns]"
      ]
     },
     "execution_count": 12,
     "metadata": {},
     "output_type": "execute_result"
    }
   ],
   "source": [
    "df"
   ]
  },
  {
   "cell_type": "code",
   "execution_count": 13,
   "id": "ea00ce3a",
   "metadata": {
    "id": "ea00ce3a"
   },
   "outputs": [
    {
     "name": "stdout",
     "output_type": "stream",
     "text": [
      "<class 'pandas.core.frame.DataFrame'>\n",
      "RangeIndex: 34003311 entries, 0 to 34003310\n",
      "Data columns (total 9 columns):\n",
      " #   Column     Dtype  \n",
      "---  ------     -----  \n",
      " 0   movieId    int64  \n",
      " 1   imdbId     float64\n",
      " 2   tmdbId     float64\n",
      " 3   title      object \n",
      " 4   genres     object \n",
      " 5   userId     float64\n",
      " 6   rating     float64\n",
      " 7   timestamp  float64\n",
      " 8   tag        object \n",
      "dtypes: float64(5), int64(1), object(3)\n",
      "memory usage: 2.3+ GB\n"
     ]
    }
   ],
   "source": [
    "df.info()"
   ]
  },
  {
   "cell_type": "code",
   "execution_count": 14,
   "id": "f6005720",
   "metadata": {
    "id": "f6005720"
   },
   "outputs": [
    {
     "name": "stdout",
     "output_type": "stream",
     "text": [
      "movieId             0\n",
      "imdbId        1999518\n",
      "tmdbId        2004246\n",
      "title         1999518\n",
      "genres        1999518\n",
      "userId           3153\n",
      "rating        2002671\n",
      "timestamp        3153\n",
      "tag          32003256\n",
      "dtype: int64\n"
     ]
    }
   ],
   "source": [
    "missing_values = df.isnull().sum()\n",
    "print(missing_values)"
   ]
  },
  {
   "cell_type": "code",
   "execution_count": 15,
   "id": "9ede9c73",
   "metadata": {
    "id": "9ede9c73"
   },
   "outputs": [],
   "source": [
    "# Removing rows with 3 or more missing values\n",
    "df = df.dropna(thresh=df.shape[1] - 2)"
   ]
  },
  {
   "cell_type": "code",
   "execution_count": 16,
   "id": "b3de6fe5",
   "metadata": {
    "id": "b3de6fe5"
   },
   "outputs": [
    {
     "name": "stdout",
     "output_type": "stream",
     "text": [
      "movieId             0\n",
      "imdbId              0\n",
      "tmdbId           4726\n",
      "title               0\n",
      "genres              0\n",
      "userId              0\n",
      "rating              0\n",
      "timestamp           0\n",
      "tag          32000086\n",
      "dtype: int64\n"
     ]
    }
   ],
   "source": [
    "missing_values2 = df.isnull().sum()\n",
    "print(missing_values2)"
   ]
  },
  {
   "cell_type": "code",
   "execution_count": 17,
   "id": "fae263a7",
   "metadata": {
    "id": "fae263a7"
   },
   "outputs": [],
   "source": [
    "df = df.drop(columns='tag')"
   ]
  },
  {
   "cell_type": "code",
   "execution_count": 18,
   "id": "2d9dbe43",
   "metadata": {
    "id": "2d9dbe43"
   },
   "outputs": [],
   "source": [
    "df = df.dropna(subset=['tmdbId'])"
   ]
  },
  {
   "cell_type": "code",
   "execution_count": 19,
   "id": "28f7e52e",
   "metadata": {
    "id": "28f7e52e",
    "scrolled": true
   },
   "outputs": [
    {
     "data": {
      "text/html": [
       "<div>\n",
       "<style scoped>\n",
       "    .dataframe tbody tr th:only-of-type {\n",
       "        vertical-align: middle;\n",
       "    }\n",
       "\n",
       "    .dataframe tbody tr th {\n",
       "        vertical-align: top;\n",
       "    }\n",
       "\n",
       "    .dataframe thead th {\n",
       "        text-align: right;\n",
       "    }\n",
       "</style>\n",
       "<table border=\"1\" class=\"dataframe\">\n",
       "  <thead>\n",
       "    <tr style=\"text-align: right;\">\n",
       "      <th></th>\n",
       "      <th>movieId</th>\n",
       "      <th>imdbId</th>\n",
       "      <th>tmdbId</th>\n",
       "      <th>title</th>\n",
       "      <th>genres</th>\n",
       "      <th>userId</th>\n",
       "      <th>rating</th>\n",
       "      <th>timestamp</th>\n",
       "    </tr>\n",
       "  </thead>\n",
       "  <tbody>\n",
       "    <tr>\n",
       "      <th>0</th>\n",
       "      <td>1</td>\n",
       "      <td>114709.0</td>\n",
       "      <td>862.0</td>\n",
       "      <td>Toy Story (1995)</td>\n",
       "      <td>Adventure|Animation|Children|Comedy|Fantasy</td>\n",
       "      <td>10.0</td>\n",
       "      <td>2.5</td>\n",
       "      <td>1.169265e+09</td>\n",
       "    </tr>\n",
       "    <tr>\n",
       "      <th>1</th>\n",
       "      <td>1</td>\n",
       "      <td>114709.0</td>\n",
       "      <td>862.0</td>\n",
       "      <td>Toy Story (1995)</td>\n",
       "      <td>Adventure|Animation|Children|Comedy|Fantasy</td>\n",
       "      <td>11.0</td>\n",
       "      <td>3.0</td>\n",
       "      <td>8.500851e+08</td>\n",
       "    </tr>\n",
       "    <tr>\n",
       "      <th>2</th>\n",
       "      <td>1</td>\n",
       "      <td>114709.0</td>\n",
       "      <td>862.0</td>\n",
       "      <td>Toy Story (1995)</td>\n",
       "      <td>Adventure|Animation|Children|Comedy|Fantasy</td>\n",
       "      <td>17.0</td>\n",
       "      <td>4.0</td>\n",
       "      <td>1.027306e+09</td>\n",
       "    </tr>\n",
       "    <tr>\n",
       "      <th>3</th>\n",
       "      <td>1</td>\n",
       "      <td>114709.0</td>\n",
       "      <td>862.0</td>\n",
       "      <td>Toy Story (1995)</td>\n",
       "      <td>Adventure|Animation|Children|Comedy|Fantasy</td>\n",
       "      <td>19.0</td>\n",
       "      <td>3.0</td>\n",
       "      <td>9.747045e+08</td>\n",
       "    </tr>\n",
       "    <tr>\n",
       "      <th>4</th>\n",
       "      <td>1</td>\n",
       "      <td>114709.0</td>\n",
       "      <td>862.0</td>\n",
       "      <td>Toy Story (1995)</td>\n",
       "      <td>Adventure|Animation|Children|Comedy|Fantasy</td>\n",
       "      <td>20.0</td>\n",
       "      <td>5.0</td>\n",
       "      <td>1.553184e+09</td>\n",
       "    </tr>\n",
       "    <tr>\n",
       "      <th>...</th>\n",
       "      <td>...</td>\n",
       "      <td>...</td>\n",
       "      <td>...</td>\n",
       "      <td>...</td>\n",
       "      <td>...</td>\n",
       "      <td>...</td>\n",
       "      <td>...</td>\n",
       "      <td>...</td>\n",
       "    </tr>\n",
       "    <tr>\n",
       "      <th>32003788</th>\n",
       "      <td>292731</td>\n",
       "      <td>26812510.0</td>\n",
       "      <td>1032473.0</td>\n",
       "      <td>The Monroy Affaire (2022)</td>\n",
       "      <td>Drama</td>\n",
       "      <td>50685.0</td>\n",
       "      <td>4.0</td>\n",
       "      <td>1.697075e+09</td>\n",
       "    </tr>\n",
       "    <tr>\n",
       "      <th>32003789</th>\n",
       "      <td>292737</td>\n",
       "      <td>14907358.0</td>\n",
       "      <td>986674.0</td>\n",
       "      <td>Shelter in Solitude (2023)</td>\n",
       "      <td>Comedy|Drama</td>\n",
       "      <td>165364.0</td>\n",
       "      <td>1.5</td>\n",
       "      <td>1.697146e+09</td>\n",
       "    </tr>\n",
       "    <tr>\n",
       "      <th>32003790</th>\n",
       "      <td>292753</td>\n",
       "      <td>12388280.0</td>\n",
       "      <td>948139.0</td>\n",
       "      <td>Orca (2023)</td>\n",
       "      <td>Drama</td>\n",
       "      <td>150812.0</td>\n",
       "      <td>4.0</td>\n",
       "      <td>1.697141e+09</td>\n",
       "    </tr>\n",
       "    <tr>\n",
       "      <th>32003791</th>\n",
       "      <td>292755</td>\n",
       "      <td>64027.0</td>\n",
       "      <td>182776.0</td>\n",
       "      <td>The Angry Breed (1968)</td>\n",
       "      <td>Drama</td>\n",
       "      <td>91097.0</td>\n",
       "      <td>1.0</td>\n",
       "      <td>1.697145e+09</td>\n",
       "    </tr>\n",
       "    <tr>\n",
       "      <th>32003792</th>\n",
       "      <td>292757</td>\n",
       "      <td>28995566.0</td>\n",
       "      <td>1174725.0</td>\n",
       "      <td>Race to the Summit (2023)</td>\n",
       "      <td>Action|Adventure|Documentary</td>\n",
       "      <td>171418.0</td>\n",
       "      <td>3.5</td>\n",
       "      <td>1.697149e+09</td>\n",
       "    </tr>\n",
       "  </tbody>\n",
       "</table>\n",
       "<p>31995914 rows × 8 columns</p>\n",
       "</div>"
      ],
      "text/plain": [
       "          movieId      imdbId     tmdbId                       title  \\\n",
       "0               1    114709.0      862.0            Toy Story (1995)   \n",
       "1               1    114709.0      862.0            Toy Story (1995)   \n",
       "2               1    114709.0      862.0            Toy Story (1995)   \n",
       "3               1    114709.0      862.0            Toy Story (1995)   \n",
       "4               1    114709.0      862.0            Toy Story (1995)   \n",
       "...           ...         ...        ...                         ...   \n",
       "32003788   292731  26812510.0  1032473.0   The Monroy Affaire (2022)   \n",
       "32003789   292737  14907358.0   986674.0  Shelter in Solitude (2023)   \n",
       "32003790   292753  12388280.0   948139.0                 Orca (2023)   \n",
       "32003791   292755     64027.0   182776.0      The Angry Breed (1968)   \n",
       "32003792   292757  28995566.0  1174725.0   Race to the Summit (2023)   \n",
       "\n",
       "                                               genres    userId  rating  \\\n",
       "0         Adventure|Animation|Children|Comedy|Fantasy      10.0     2.5   \n",
       "1         Adventure|Animation|Children|Comedy|Fantasy      11.0     3.0   \n",
       "2         Adventure|Animation|Children|Comedy|Fantasy      17.0     4.0   \n",
       "3         Adventure|Animation|Children|Comedy|Fantasy      19.0     3.0   \n",
       "4         Adventure|Animation|Children|Comedy|Fantasy      20.0     5.0   \n",
       "...                                               ...       ...     ...   \n",
       "32003788                                        Drama   50685.0     4.0   \n",
       "32003789                                 Comedy|Drama  165364.0     1.5   \n",
       "32003790                                        Drama  150812.0     4.0   \n",
       "32003791                                        Drama   91097.0     1.0   \n",
       "32003792                 Action|Adventure|Documentary  171418.0     3.5   \n",
       "\n",
       "             timestamp  \n",
       "0         1.169265e+09  \n",
       "1         8.500851e+08  \n",
       "2         1.027306e+09  \n",
       "3         9.747045e+08  \n",
       "4         1.553184e+09  \n",
       "...                ...  \n",
       "32003788  1.697075e+09  \n",
       "32003789  1.697146e+09  \n",
       "32003790  1.697141e+09  \n",
       "32003791  1.697145e+09  \n",
       "32003792  1.697149e+09  \n",
       "\n",
       "[31995914 rows x 8 columns]"
      ]
     },
     "execution_count": 19,
     "metadata": {},
     "output_type": "execute_result"
    }
   ],
   "source": [
    "df"
   ]
  },
  {
   "cell_type": "code",
   "execution_count": 20,
   "id": "07a97430",
   "metadata": {
    "id": "07a97430"
   },
   "outputs": [
    {
     "name": "stdout",
     "output_type": "stream",
     "text": [
      "Top 10 users who rated the most:\n",
      "\n",
      "userId\n",
      "175325.0    33328\n",
      "17035.0      9578\n",
      "55653.0      9172\n",
      "123465.0     9042\n",
      "171795.0     9014\n",
      "10202.0      7747\n",
      "198515.0     7590\n",
      "49305.0      7482\n",
      "22744.0      7372\n",
      "7858.0       7320\n",
      "Name: count, dtype: int64\n",
      "\n",
      "Top 10 users who rated the least:\n",
      "\n",
      "userId\n",
      "13863.0     20\n",
      "162821.0    20\n",
      "192201.0    19\n",
      "51699.0     19\n",
      "99999.0     19\n",
      "191277.0    19\n",
      "121187.0    19\n",
      "160346.0    19\n",
      "67751.0     19\n",
      "104351.0    19\n",
      "Name: count, dtype: int64\n"
     ]
    }
   ],
   "source": [
    "# Count how many times each userId appears\n",
    "user_counts = df['userId'].value_counts()\n",
    "\n",
    "top_10_most = user_counts.head(10)\n",
    "\n",
    "top_10_least = user_counts.tail(10)\n",
    "\n",
    "print(\"Top 10 users who rated the most:\\n\")\n",
    "print(top_10_most)\n",
    "\n",
    "print(\"\\nTop 10 users who rated the least:\\n\")\n",
    "print(top_10_least)\n"
   ]
  },
  {
   "cell_type": "code",
   "execution_count": 21,
   "id": "3f81d428",
   "metadata": {
    "id": "3f81d428"
   },
   "outputs": [
    {
     "data": {
      "text/html": [
       "<div>\n",
       "<style scoped>\n",
       "    .dataframe tbody tr th:only-of-type {\n",
       "        vertical-align: middle;\n",
       "    }\n",
       "\n",
       "    .dataframe tbody tr th {\n",
       "        vertical-align: top;\n",
       "    }\n",
       "\n",
       "    .dataframe thead th {\n",
       "        text-align: right;\n",
       "    }\n",
       "</style>\n",
       "<table border=\"1\" class=\"dataframe\">\n",
       "  <thead>\n",
       "    <tr style=\"text-align: right;\">\n",
       "      <th></th>\n",
       "      <th>movieId</th>\n",
       "      <th>imdbId</th>\n",
       "      <th>tmdbId</th>\n",
       "      <th>userId</th>\n",
       "      <th>rating</th>\n",
       "      <th>timestamp</th>\n",
       "    </tr>\n",
       "  </thead>\n",
       "  <tbody>\n",
       "    <tr>\n",
       "      <th>count</th>\n",
       "      <td>3.199591e+07</td>\n",
       "      <td>3.199591e+07</td>\n",
       "      <td>3.199591e+07</td>\n",
       "      <td>3.199591e+07</td>\n",
       "      <td>3.199591e+07</td>\n",
       "      <td>3.199591e+07</td>\n",
       "    </tr>\n",
       "    <tr>\n",
       "      <th>mean</th>\n",
       "      <td>2.932045e+04</td>\n",
       "      <td>5.930045e+05</td>\n",
       "      <td>3.881808e+04</td>\n",
       "      <td>1.002783e+05</td>\n",
       "      <td>3.540418e+00</td>\n",
       "      <td>1.275257e+09</td>\n",
       "    </tr>\n",
       "    <tr>\n",
       "      <th>std</th>\n",
       "      <td>5.096014e+04</td>\n",
       "      <td>1.368973e+06</td>\n",
       "      <td>1.021859e+05</td>\n",
       "      <td>5.794871e+04</td>\n",
       "      <td>1.058965e+00</td>\n",
       "      <td>2.561690e+08</td>\n",
       "    </tr>\n",
       "    <tr>\n",
       "      <th>min</th>\n",
       "      <td>1.000000e+00</td>\n",
       "      <td>1.000000e+00</td>\n",
       "      <td>2.000000e+00</td>\n",
       "      <td>1.000000e+00</td>\n",
       "      <td>5.000000e-01</td>\n",
       "      <td>7.896520e+08</td>\n",
       "    </tr>\n",
       "    <tr>\n",
       "      <th>25%</th>\n",
       "      <td>1.233000e+03</td>\n",
       "      <td>1.010040e+05</td>\n",
       "      <td>7.140000e+02</td>\n",
       "      <td>5.005400e+04</td>\n",
       "      <td>3.000000e+00</td>\n",
       "      <td>1.051015e+09</td>\n",
       "    </tr>\n",
       "    <tr>\n",
       "      <th>50%</th>\n",
       "      <td>3.452000e+03</td>\n",
       "      <td>1.205770e+05</td>\n",
       "      <td>8.321000e+03</td>\n",
       "      <td>1.002970e+05</td>\n",
       "      <td>3.500000e+00</td>\n",
       "      <td>1.272667e+09</td>\n",
       "    </tr>\n",
       "    <tr>\n",
       "      <th>75%</th>\n",
       "      <td>4.419900e+04</td>\n",
       "      <td>3.816810e+05</td>\n",
       "      <td>1.416100e+04</td>\n",
       "      <td>1.504500e+05</td>\n",
       "      <td>4.000000e+00</td>\n",
       "      <td>1.503170e+09</td>\n",
       "    </tr>\n",
       "    <tr>\n",
       "      <th>max</th>\n",
       "      <td>2.927570e+05</td>\n",
       "      <td>2.908110e+07</td>\n",
       "      <td>1.186337e+06</td>\n",
       "      <td>2.009480e+05</td>\n",
       "      <td>5.000000e+00</td>\n",
       "      <td>1.697164e+09</td>\n",
       "    </tr>\n",
       "  </tbody>\n",
       "</table>\n",
       "</div>"
      ],
      "text/plain": [
       "            movieId        imdbId        tmdbId        userId        rating  \\\n",
       "count  3.199591e+07  3.199591e+07  3.199591e+07  3.199591e+07  3.199591e+07   \n",
       "mean   2.932045e+04  5.930045e+05  3.881808e+04  1.002783e+05  3.540418e+00   \n",
       "std    5.096014e+04  1.368973e+06  1.021859e+05  5.794871e+04  1.058965e+00   \n",
       "min    1.000000e+00  1.000000e+00  2.000000e+00  1.000000e+00  5.000000e-01   \n",
       "25%    1.233000e+03  1.010040e+05  7.140000e+02  5.005400e+04  3.000000e+00   \n",
       "50%    3.452000e+03  1.205770e+05  8.321000e+03  1.002970e+05  3.500000e+00   \n",
       "75%    4.419900e+04  3.816810e+05  1.416100e+04  1.504500e+05  4.000000e+00   \n",
       "max    2.927570e+05  2.908110e+07  1.186337e+06  2.009480e+05  5.000000e+00   \n",
       "\n",
       "          timestamp  \n",
       "count  3.199591e+07  \n",
       "mean   1.275257e+09  \n",
       "std    2.561690e+08  \n",
       "min    7.896520e+08  \n",
       "25%    1.051015e+09  \n",
       "50%    1.272667e+09  \n",
       "75%    1.503170e+09  \n",
       "max    1.697164e+09  "
      ]
     },
     "execution_count": 21,
     "metadata": {},
     "output_type": "execute_result"
    }
   ],
   "source": [
    "df.describe()"
   ]
  },
  {
   "cell_type": "code",
   "execution_count": 22,
   "id": "7c3e4222",
   "metadata": {
    "id": "7c3e4222"
   },
   "outputs": [
    {
     "name": "stdout",
     "output_type": "stream",
     "text": [
      "Unique TMDB IDs in df: 84275\n"
     ]
    }
   ],
   "source": [
    "print(\"Unique TMDB IDs in df:\", df['tmdbId'].nunique())"
   ]
  },
  {
   "cell_type": "code",
   "execution_count": 23,
   "id": "2f362fb3",
   "metadata": {
    "id": "2f362fb3"
   },
   "outputs": [
    {
     "name": "stdout",
     "output_type": "stream",
     "text": [
      "Unique user IDs in df: 200948\n"
     ]
    }
   ],
   "source": [
    "print(\"Unique user IDs in df:\", df['userId'].nunique())"
   ]
  },
  {
   "cell_type": "code",
   "execution_count": 24,
   "id": "9d3feb3d",
   "metadata": {
    "id": "9d3feb3d"
   },
   "outputs": [],
   "source": [
    "# Filter by year\n",
    "df = df[df['title'].str.extract(r'\\((\\d{4})\\)').astype(float)[0] > 1990]"
   ]
  },
  {
   "cell_type": "code",
   "execution_count": 25,
   "id": "92f77525",
   "metadata": {
    "id": "92f77525"
   },
   "outputs": [],
   "source": [
    "# Remove users with no rating variance\n",
    "user_var = df.groupby('userId')['rating'].std()\n",
    "users_with_variance = user_var[user_var > 0].index\n",
    "df = df[df['userId'].isin(users_with_variance)]"
   ]
  },
  {
   "cell_type": "code",
   "execution_count": 26,
   "id": "1b71b5fb",
   "metadata": {
    "id": "1b71b5fb"
   },
   "outputs": [],
   "source": [
    "# Filter users with a reasonable number of ratings\n",
    "user_rating_counts = df['userId'].value_counts()\n",
    "filtered_user_ids = user_rating_counts[\n",
    "    (user_rating_counts >= 30) &\n",
    "    (user_rating_counts <= user_rating_counts.quantile(0.99))\n",
    "].index\n",
    "df = df[df['userId'].isin(filtered_user_ids)]"
   ]
  },
  {
   "cell_type": "code",
   "execution_count": 27,
   "id": "6347887f",
   "metadata": {
    "id": "6347887f"
   },
   "outputs": [],
   "source": [
    "# Filter movies with enough ratings\n",
    "movie_counts = df['movieId'].value_counts()\n",
    "eligible_movies = movie_counts[movie_counts >= 50].index\n",
    "df = df[df['movieId'].isin(eligible_movies)]"
   ]
  },
  {
   "cell_type": "code",
   "execution_count": 28,
   "id": "2de8dcd0",
   "metadata": {
    "id": "2de8dcd0"
   },
   "outputs": [],
   "source": [
    "# Recalculate after previous filtering\n",
    "user_counts = df['userId'].value_counts()\n",
    "movie_counts = df['movieId'].value_counts()"
   ]
  },
  {
   "cell_type": "code",
   "execution_count": 29,
   "id": "2e41c212",
   "metadata": {
    "id": "2e41c212"
   },
   "outputs": [],
   "source": [
    "# Choose users and movies that survived and have enough interactions\n",
    "valid_users = user_counts[user_counts >= 30].index[:15000] \n",
    "valid_movies = movie_counts[movie_counts >= 50].index[:15000]"
   ]
  },
  {
   "cell_type": "code",
   "execution_count": 30,
   "id": "e205aee6",
   "metadata": {},
   "outputs": [],
   "source": [
    "df = df[df['userId'].isin(valid_users) & df['movieId'].isin(valid_movies)]"
   ]
  },
  {
   "cell_type": "code",
   "execution_count": 31,
   "id": "566a7e20",
   "metadata": {
    "id": "566a7e20"
   },
   "outputs": [],
   "source": [
    "# 7. Now sample exactly 10k users and 10k movies from the remaining set\n",
    "final_users = df['userId'].unique()\n",
    "final_movies = df['movieId'].unique()"
   ]
  },
  {
   "cell_type": "code",
   "execution_count": 32,
   "id": "961bb212",
   "metadata": {},
   "outputs": [
    {
     "name": "stdout",
     "output_type": "stream",
     "text": [
      "Available movies: 9020\n",
      "Available users: 15000\n"
     ]
    }
   ],
   "source": [
    "print(\"Available movies:\", len(final_movies))\n",
    "print(\"Available users:\", len(final_users))\n"
   ]
  },
  {
   "cell_type": "code",
   "execution_count": 33,
   "id": "b00e0c7a",
   "metadata": {},
   "outputs": [],
   "source": [
    "np.random.seed(42)\n",
    "sampled_user_ids = np.random.choice(final_users, size=10000, replace=False)\n",
    "sampled_movie_ids = np.random.choice(final_movies, size=9020, replace=False)"
   ]
  },
  {
   "cell_type": "code",
   "execution_count": 34,
   "id": "122f5295",
   "metadata": {},
   "outputs": [],
   "source": [
    "df_sample = df[\n",
    "    df['userId'].isin(sampled_user_ids) &\n",
    "    df['movieId'].isin(sampled_movie_ids)\n",
    "].copy()"
   ]
  },
  {
   "cell_type": "code",
   "execution_count": 35,
   "id": "31a3ea31",
   "metadata": {},
   "outputs": [],
   "source": [
    "# limit per-movie ratings\n",
    "df_sample = (\n",
    "    df_sample.groupby('movieId', group_keys=False)\n",
    "    .apply(lambda x: x.sample(n=min(1000, len(x)), random_state=42))\n",
    "    .reset_index(drop=True)\n",
    ")"
   ]
  },
  {
   "cell_type": "code",
   "execution_count": 36,
   "id": "e7d4fddc",
   "metadata": {
    "id": "e7d4fddc"
   },
   "outputs": [
    {
     "name": "stdout",
     "output_type": "stream",
     "text": [
      "Unique movies in df_sample: 9015\n",
      "Unique user IDs in df_sample: 10000\n",
      "Total ratings in df_sample: 2785197\n"
     ]
    }
   ],
   "source": [
    "print(\"Unique movies in df_sample:\", df_sample['tmdbId'].nunique())\n",
    "print(\"Unique user IDs in df_sample:\", df_sample['userId'].nunique())\n",
    "print(\"Total ratings in df_sample:\", len(df_sample))"
   ]
  },
  {
   "cell_type": "code",
   "execution_count": 37,
   "id": "3ec40af8",
   "metadata": {
    "id": "3ec40af8"
   },
   "outputs": [],
   "source": [
    "# Save df_sample\n",
    "df_sample_path = os.path.join(save_dir, \"df_sample.csv\")\n",
    "df_sample.to_csv(df_sample_path, index=False)\n"
   ]
  },
  {
   "cell_type": "code",
   "execution_count": 38,
   "id": "d80ec1db",
   "metadata": {
    "id": "d80ec1db",
    "scrolled": true
   },
   "outputs": [
    {
     "data": {
      "text/html": [
       "<div>\n",
       "<style scoped>\n",
       "    .dataframe tbody tr th:only-of-type {\n",
       "        vertical-align: middle;\n",
       "    }\n",
       "\n",
       "    .dataframe tbody tr th {\n",
       "        vertical-align: top;\n",
       "    }\n",
       "\n",
       "    .dataframe thead th {\n",
       "        text-align: right;\n",
       "    }\n",
       "</style>\n",
       "<table border=\"1\" class=\"dataframe\">\n",
       "  <thead>\n",
       "    <tr style=\"text-align: right;\">\n",
       "      <th></th>\n",
       "      <th>movieId</th>\n",
       "      <th>imdbId</th>\n",
       "      <th>tmdbId</th>\n",
       "      <th>title</th>\n",
       "      <th>genres</th>\n",
       "      <th>userId</th>\n",
       "      <th>rating</th>\n",
       "      <th>timestamp</th>\n",
       "    </tr>\n",
       "  </thead>\n",
       "  <tbody>\n",
       "    <tr>\n",
       "      <th>0</th>\n",
       "      <td>1</td>\n",
       "      <td>114709.0</td>\n",
       "      <td>862.0</td>\n",
       "      <td>Toy Story (1995)</td>\n",
       "      <td>Adventure|Animation|Children|Comedy|Fantasy</td>\n",
       "      <td>36641.0</td>\n",
       "      <td>1.5</td>\n",
       "      <td>1.165810e+09</td>\n",
       "    </tr>\n",
       "    <tr>\n",
       "      <th>1</th>\n",
       "      <td>1</td>\n",
       "      <td>114709.0</td>\n",
       "      <td>862.0</td>\n",
       "      <td>Toy Story (1995)</td>\n",
       "      <td>Adventure|Animation|Children|Comedy|Fantasy</td>\n",
       "      <td>70379.0</td>\n",
       "      <td>4.0</td>\n",
       "      <td>9.759794e+08</td>\n",
       "    </tr>\n",
       "    <tr>\n",
       "      <th>2</th>\n",
       "      <td>1</td>\n",
       "      <td>114709.0</td>\n",
       "      <td>862.0</td>\n",
       "      <td>Toy Story (1995)</td>\n",
       "      <td>Adventure|Animation|Children|Comedy|Fantasy</td>\n",
       "      <td>88400.0</td>\n",
       "      <td>3.5</td>\n",
       "      <td>1.545170e+09</td>\n",
       "    </tr>\n",
       "    <tr>\n",
       "      <th>3</th>\n",
       "      <td>1</td>\n",
       "      <td>114709.0</td>\n",
       "      <td>862.0</td>\n",
       "      <td>Toy Story (1995)</td>\n",
       "      <td>Adventure|Animation|Children|Comedy|Fantasy</td>\n",
       "      <td>171266.0</td>\n",
       "      <td>4.0</td>\n",
       "      <td>1.483595e+09</td>\n",
       "    </tr>\n",
       "    <tr>\n",
       "      <th>4</th>\n",
       "      <td>1</td>\n",
       "      <td>114709.0</td>\n",
       "      <td>862.0</td>\n",
       "      <td>Toy Story (1995)</td>\n",
       "      <td>Adventure|Animation|Children|Comedy|Fantasy</td>\n",
       "      <td>77024.0</td>\n",
       "      <td>4.5</td>\n",
       "      <td>1.341102e+09</td>\n",
       "    </tr>\n",
       "    <tr>\n",
       "      <th>...</th>\n",
       "      <td>...</td>\n",
       "      <td>...</td>\n",
       "      <td>...</td>\n",
       "      <td>...</td>\n",
       "      <td>...</td>\n",
       "      <td>...</td>\n",
       "      <td>...</td>\n",
       "      <td>...</td>\n",
       "    </tr>\n",
       "    <tr>\n",
       "      <th>2785192</th>\n",
       "      <td>289253</td>\n",
       "      <td>8589698.0</td>\n",
       "      <td>614930.0</td>\n",
       "      <td>Teenage Mutant Ninja Turtles: Mutant Mayhem (2...</td>\n",
       "      <td>Action|Animation|Children|Comedy|Sci-Fi</td>\n",
       "      <td>41638.0</td>\n",
       "      <td>4.0</td>\n",
       "      <td>1.695693e+09</td>\n",
       "    </tr>\n",
       "    <tr>\n",
       "      <th>2785193</th>\n",
       "      <td>289253</td>\n",
       "      <td>8589698.0</td>\n",
       "      <td>614930.0</td>\n",
       "      <td>Teenage Mutant Ninja Turtles: Mutant Mayhem (2...</td>\n",
       "      <td>Action|Animation|Children|Comedy|Sci-Fi</td>\n",
       "      <td>60730.0</td>\n",
       "      <td>4.0</td>\n",
       "      <td>1.696293e+09</td>\n",
       "    </tr>\n",
       "    <tr>\n",
       "      <th>2785194</th>\n",
       "      <td>289253</td>\n",
       "      <td>8589698.0</td>\n",
       "      <td>614930.0</td>\n",
       "      <td>Teenage Mutant Ninja Turtles: Mutant Mayhem (2...</td>\n",
       "      <td>Action|Animation|Children|Comedy|Sci-Fi</td>\n",
       "      <td>106430.0</td>\n",
       "      <td>5.0</td>\n",
       "      <td>1.694894e+09</td>\n",
       "    </tr>\n",
       "    <tr>\n",
       "      <th>2785195</th>\n",
       "      <td>289253</td>\n",
       "      <td>8589698.0</td>\n",
       "      <td>614930.0</td>\n",
       "      <td>Teenage Mutant Ninja Turtles: Mutant Mayhem (2...</td>\n",
       "      <td>Action|Animation|Children|Comedy|Sci-Fi</td>\n",
       "      <td>157539.0</td>\n",
       "      <td>3.0</td>\n",
       "      <td>1.693911e+09</td>\n",
       "    </tr>\n",
       "    <tr>\n",
       "      <th>2785196</th>\n",
       "      <td>289253</td>\n",
       "      <td>8589698.0</td>\n",
       "      <td>614930.0</td>\n",
       "      <td>Teenage Mutant Ninja Turtles: Mutant Mayhem (2...</td>\n",
       "      <td>Action|Animation|Children|Comedy|Sci-Fi</td>\n",
       "      <td>19528.0</td>\n",
       "      <td>2.0</td>\n",
       "      <td>1.693845e+09</td>\n",
       "    </tr>\n",
       "  </tbody>\n",
       "</table>\n",
       "<p>2785197 rows × 8 columns</p>\n",
       "</div>"
      ],
      "text/plain": [
       "         movieId     imdbId    tmdbId  \\\n",
       "0              1   114709.0     862.0   \n",
       "1              1   114709.0     862.0   \n",
       "2              1   114709.0     862.0   \n",
       "3              1   114709.0     862.0   \n",
       "4              1   114709.0     862.0   \n",
       "...          ...        ...       ...   \n",
       "2785192   289253  8589698.0  614930.0   \n",
       "2785193   289253  8589698.0  614930.0   \n",
       "2785194   289253  8589698.0  614930.0   \n",
       "2785195   289253  8589698.0  614930.0   \n",
       "2785196   289253  8589698.0  614930.0   \n",
       "\n",
       "                                                     title  \\\n",
       "0                                         Toy Story (1995)   \n",
       "1                                         Toy Story (1995)   \n",
       "2                                         Toy Story (1995)   \n",
       "3                                         Toy Story (1995)   \n",
       "4                                         Toy Story (1995)   \n",
       "...                                                    ...   \n",
       "2785192  Teenage Mutant Ninja Turtles: Mutant Mayhem (2...   \n",
       "2785193  Teenage Mutant Ninja Turtles: Mutant Mayhem (2...   \n",
       "2785194  Teenage Mutant Ninja Turtles: Mutant Mayhem (2...   \n",
       "2785195  Teenage Mutant Ninja Turtles: Mutant Mayhem (2...   \n",
       "2785196  Teenage Mutant Ninja Turtles: Mutant Mayhem (2...   \n",
       "\n",
       "                                              genres    userId  rating  \\\n",
       "0        Adventure|Animation|Children|Comedy|Fantasy   36641.0     1.5   \n",
       "1        Adventure|Animation|Children|Comedy|Fantasy   70379.0     4.0   \n",
       "2        Adventure|Animation|Children|Comedy|Fantasy   88400.0     3.5   \n",
       "3        Adventure|Animation|Children|Comedy|Fantasy  171266.0     4.0   \n",
       "4        Adventure|Animation|Children|Comedy|Fantasy   77024.0     4.5   \n",
       "...                                              ...       ...     ...   \n",
       "2785192      Action|Animation|Children|Comedy|Sci-Fi   41638.0     4.0   \n",
       "2785193      Action|Animation|Children|Comedy|Sci-Fi   60730.0     4.0   \n",
       "2785194      Action|Animation|Children|Comedy|Sci-Fi  106430.0     5.0   \n",
       "2785195      Action|Animation|Children|Comedy|Sci-Fi  157539.0     3.0   \n",
       "2785196      Action|Animation|Children|Comedy|Sci-Fi   19528.0     2.0   \n",
       "\n",
       "            timestamp  \n",
       "0        1.165810e+09  \n",
       "1        9.759794e+08  \n",
       "2        1.545170e+09  \n",
       "3        1.483595e+09  \n",
       "4        1.341102e+09  \n",
       "...               ...  \n",
       "2785192  1.695693e+09  \n",
       "2785193  1.696293e+09  \n",
       "2785194  1.694894e+09  \n",
       "2785195  1.693911e+09  \n",
       "2785196  1.693845e+09  \n",
       "\n",
       "[2785197 rows x 8 columns]"
      ]
     },
     "execution_count": 38,
     "metadata": {},
     "output_type": "execute_result"
    }
   ],
   "source": [
    "df_sample"
   ]
  },
  {
   "cell_type": "code",
   "execution_count": 39,
   "id": "cfc8c59a",
   "metadata": {
    "id": "cfc8c59a",
    "outputId": "eea1b7ea-fb89-4895-c2a0-008a67d60d48"
   },
   "outputs": [
    {
     "name": "stdout",
     "output_type": "stream",
     "text": [
      "         movieId     imdbId    tmdbId  \\\n",
      "0              1   114709.0     862.0   \n",
      "1              1   114709.0     862.0   \n",
      "2              1   114709.0     862.0   \n",
      "3              1   114709.0     862.0   \n",
      "4              1   114709.0     862.0   \n",
      "...          ...        ...       ...   \n",
      "2785192   289253  8589698.0  614930.0   \n",
      "2785193   289253  8589698.0  614930.0   \n",
      "2785194   289253  8589698.0  614930.0   \n",
      "2785195   289253  8589698.0  614930.0   \n",
      "2785196   289253  8589698.0  614930.0   \n",
      "\n",
      "                                               title  \\\n",
      "0                                          Toy Story   \n",
      "1                                          Toy Story   \n",
      "2                                          Toy Story   \n",
      "3                                          Toy Story   \n",
      "4                                          Toy Story   \n",
      "...                                              ...   \n",
      "2785192  Teenage Mutant Ninja Turtles: Mutant Mayhem   \n",
      "2785193  Teenage Mutant Ninja Turtles: Mutant Mayhem   \n",
      "2785194  Teenage Mutant Ninja Turtles: Mutant Mayhem   \n",
      "2785195  Teenage Mutant Ninja Turtles: Mutant Mayhem   \n",
      "2785196  Teenage Mutant Ninja Turtles: Mutant Mayhem   \n",
      "\n",
      "                                              genres    userId  rating  \\\n",
      "0        Adventure|Animation|Children|Comedy|Fantasy   36641.0     1.5   \n",
      "1        Adventure|Animation|Children|Comedy|Fantasy   70379.0     4.0   \n",
      "2        Adventure|Animation|Children|Comedy|Fantasy   88400.0     3.5   \n",
      "3        Adventure|Animation|Children|Comedy|Fantasy  171266.0     4.0   \n",
      "4        Adventure|Animation|Children|Comedy|Fantasy   77024.0     4.5   \n",
      "...                                              ...       ...     ...   \n",
      "2785192      Action|Animation|Children|Comedy|Sci-Fi   41638.0     4.0   \n",
      "2785193      Action|Animation|Children|Comedy|Sci-Fi   60730.0     4.0   \n",
      "2785194      Action|Animation|Children|Comedy|Sci-Fi  106430.0     5.0   \n",
      "2785195      Action|Animation|Children|Comedy|Sci-Fi  157539.0     3.0   \n",
      "2785196      Action|Animation|Children|Comedy|Sci-Fi   19528.0     2.0   \n",
      "\n",
      "            timestamp  year  \n",
      "0        1.165810e+09  1995  \n",
      "1        9.759794e+08  1995  \n",
      "2        1.545170e+09  1995  \n",
      "3        1.483595e+09  1995  \n",
      "4        1.341102e+09  1995  \n",
      "...               ...   ...  \n",
      "2785192  1.695693e+09  2023  \n",
      "2785193  1.696293e+09  2023  \n",
      "2785194  1.694894e+09  2023  \n",
      "2785195  1.693911e+09  2023  \n",
      "2785196  1.693845e+09  2023  \n",
      "\n",
      "[2785197 rows x 9 columns]\n"
     ]
    }
   ],
   "source": [
    "import pandas as pd\n",
    "\n",
    "# Using regex to extract the year and remove it from the title in one go\n",
    "df_sample['year'] = df_sample['title'].str.extract(r'\\((\\d{4})\\)', expand=False)\n",
    "df_sample['title'] = df_sample['title'].str.replace(r'\\(\\d{4}\\)', '', regex=True).str.strip()\n",
    "\n",
    "print(df_sample)\n"
   ]
  },
  {
   "cell_type": "code",
   "execution_count": 40,
   "id": "6b10a501",
   "metadata": {
    "id": "6b10a501",
    "outputId": "88a807ca-cb8d-46b5-cc9b-64b0d3197582"
   },
   "outputs": [
    {
     "data": {
      "text/html": [
       "<div>\n",
       "<style scoped>\n",
       "    .dataframe tbody tr th:only-of-type {\n",
       "        vertical-align: middle;\n",
       "    }\n",
       "\n",
       "    .dataframe tbody tr th {\n",
       "        vertical-align: top;\n",
       "    }\n",
       "\n",
       "    .dataframe thead th {\n",
       "        text-align: right;\n",
       "    }\n",
       "</style>\n",
       "<table border=\"1\" class=\"dataframe\">\n",
       "  <thead>\n",
       "    <tr style=\"text-align: right;\">\n",
       "      <th></th>\n",
       "      <th>movieId</th>\n",
       "      <th>imdbId</th>\n",
       "      <th>tmdbId</th>\n",
       "      <th>title</th>\n",
       "      <th>genres</th>\n",
       "      <th>userId</th>\n",
       "      <th>rating</th>\n",
       "      <th>timestamp</th>\n",
       "      <th>year</th>\n",
       "    </tr>\n",
       "  </thead>\n",
       "  <tbody>\n",
       "    <tr>\n",
       "      <th>0</th>\n",
       "      <td>1</td>\n",
       "      <td>114709.0</td>\n",
       "      <td>862.0</td>\n",
       "      <td>Toy Story</td>\n",
       "      <td>Adventure|Animation|Children|Comedy|Fantasy</td>\n",
       "      <td>36641.0</td>\n",
       "      <td>1.5</td>\n",
       "      <td>1.165810e+09</td>\n",
       "      <td>1995</td>\n",
       "    </tr>\n",
       "    <tr>\n",
       "      <th>1</th>\n",
       "      <td>1</td>\n",
       "      <td>114709.0</td>\n",
       "      <td>862.0</td>\n",
       "      <td>Toy Story</td>\n",
       "      <td>Adventure|Animation|Children|Comedy|Fantasy</td>\n",
       "      <td>70379.0</td>\n",
       "      <td>4.0</td>\n",
       "      <td>9.759794e+08</td>\n",
       "      <td>1995</td>\n",
       "    </tr>\n",
       "    <tr>\n",
       "      <th>2</th>\n",
       "      <td>1</td>\n",
       "      <td>114709.0</td>\n",
       "      <td>862.0</td>\n",
       "      <td>Toy Story</td>\n",
       "      <td>Adventure|Animation|Children|Comedy|Fantasy</td>\n",
       "      <td>88400.0</td>\n",
       "      <td>3.5</td>\n",
       "      <td>1.545170e+09</td>\n",
       "      <td>1995</td>\n",
       "    </tr>\n",
       "    <tr>\n",
       "      <th>3</th>\n",
       "      <td>1</td>\n",
       "      <td>114709.0</td>\n",
       "      <td>862.0</td>\n",
       "      <td>Toy Story</td>\n",
       "      <td>Adventure|Animation|Children|Comedy|Fantasy</td>\n",
       "      <td>171266.0</td>\n",
       "      <td>4.0</td>\n",
       "      <td>1.483595e+09</td>\n",
       "      <td>1995</td>\n",
       "    </tr>\n",
       "    <tr>\n",
       "      <th>4</th>\n",
       "      <td>1</td>\n",
       "      <td>114709.0</td>\n",
       "      <td>862.0</td>\n",
       "      <td>Toy Story</td>\n",
       "      <td>Adventure|Animation|Children|Comedy|Fantasy</td>\n",
       "      <td>77024.0</td>\n",
       "      <td>4.5</td>\n",
       "      <td>1.341102e+09</td>\n",
       "      <td>1995</td>\n",
       "    </tr>\n",
       "    <tr>\n",
       "      <th>...</th>\n",
       "      <td>...</td>\n",
       "      <td>...</td>\n",
       "      <td>...</td>\n",
       "      <td>...</td>\n",
       "      <td>...</td>\n",
       "      <td>...</td>\n",
       "      <td>...</td>\n",
       "      <td>...</td>\n",
       "      <td>...</td>\n",
       "    </tr>\n",
       "    <tr>\n",
       "      <th>2785192</th>\n",
       "      <td>289253</td>\n",
       "      <td>8589698.0</td>\n",
       "      <td>614930.0</td>\n",
       "      <td>Teenage Mutant Ninja Turtles: Mutant Mayhem</td>\n",
       "      <td>Action|Animation|Children|Comedy|Sci-Fi</td>\n",
       "      <td>41638.0</td>\n",
       "      <td>4.0</td>\n",
       "      <td>1.695693e+09</td>\n",
       "      <td>2023</td>\n",
       "    </tr>\n",
       "    <tr>\n",
       "      <th>2785193</th>\n",
       "      <td>289253</td>\n",
       "      <td>8589698.0</td>\n",
       "      <td>614930.0</td>\n",
       "      <td>Teenage Mutant Ninja Turtles: Mutant Mayhem</td>\n",
       "      <td>Action|Animation|Children|Comedy|Sci-Fi</td>\n",
       "      <td>60730.0</td>\n",
       "      <td>4.0</td>\n",
       "      <td>1.696293e+09</td>\n",
       "      <td>2023</td>\n",
       "    </tr>\n",
       "    <tr>\n",
       "      <th>2785194</th>\n",
       "      <td>289253</td>\n",
       "      <td>8589698.0</td>\n",
       "      <td>614930.0</td>\n",
       "      <td>Teenage Mutant Ninja Turtles: Mutant Mayhem</td>\n",
       "      <td>Action|Animation|Children|Comedy|Sci-Fi</td>\n",
       "      <td>106430.0</td>\n",
       "      <td>5.0</td>\n",
       "      <td>1.694894e+09</td>\n",
       "      <td>2023</td>\n",
       "    </tr>\n",
       "    <tr>\n",
       "      <th>2785195</th>\n",
       "      <td>289253</td>\n",
       "      <td>8589698.0</td>\n",
       "      <td>614930.0</td>\n",
       "      <td>Teenage Mutant Ninja Turtles: Mutant Mayhem</td>\n",
       "      <td>Action|Animation|Children|Comedy|Sci-Fi</td>\n",
       "      <td>157539.0</td>\n",
       "      <td>3.0</td>\n",
       "      <td>1.693911e+09</td>\n",
       "      <td>2023</td>\n",
       "    </tr>\n",
       "    <tr>\n",
       "      <th>2785196</th>\n",
       "      <td>289253</td>\n",
       "      <td>8589698.0</td>\n",
       "      <td>614930.0</td>\n",
       "      <td>Teenage Mutant Ninja Turtles: Mutant Mayhem</td>\n",
       "      <td>Action|Animation|Children|Comedy|Sci-Fi</td>\n",
       "      <td>19528.0</td>\n",
       "      <td>2.0</td>\n",
       "      <td>1.693845e+09</td>\n",
       "      <td>2023</td>\n",
       "    </tr>\n",
       "  </tbody>\n",
       "</table>\n",
       "<p>2785197 rows × 9 columns</p>\n",
       "</div>"
      ],
      "text/plain": [
       "         movieId     imdbId    tmdbId  \\\n",
       "0              1   114709.0     862.0   \n",
       "1              1   114709.0     862.0   \n",
       "2              1   114709.0     862.0   \n",
       "3              1   114709.0     862.0   \n",
       "4              1   114709.0     862.0   \n",
       "...          ...        ...       ...   \n",
       "2785192   289253  8589698.0  614930.0   \n",
       "2785193   289253  8589698.0  614930.0   \n",
       "2785194   289253  8589698.0  614930.0   \n",
       "2785195   289253  8589698.0  614930.0   \n",
       "2785196   289253  8589698.0  614930.0   \n",
       "\n",
       "                                               title  \\\n",
       "0                                          Toy Story   \n",
       "1                                          Toy Story   \n",
       "2                                          Toy Story   \n",
       "3                                          Toy Story   \n",
       "4                                          Toy Story   \n",
       "...                                              ...   \n",
       "2785192  Teenage Mutant Ninja Turtles: Mutant Mayhem   \n",
       "2785193  Teenage Mutant Ninja Turtles: Mutant Mayhem   \n",
       "2785194  Teenage Mutant Ninja Turtles: Mutant Mayhem   \n",
       "2785195  Teenage Mutant Ninja Turtles: Mutant Mayhem   \n",
       "2785196  Teenage Mutant Ninja Turtles: Mutant Mayhem   \n",
       "\n",
       "                                              genres    userId  rating  \\\n",
       "0        Adventure|Animation|Children|Comedy|Fantasy   36641.0     1.5   \n",
       "1        Adventure|Animation|Children|Comedy|Fantasy   70379.0     4.0   \n",
       "2        Adventure|Animation|Children|Comedy|Fantasy   88400.0     3.5   \n",
       "3        Adventure|Animation|Children|Comedy|Fantasy  171266.0     4.0   \n",
       "4        Adventure|Animation|Children|Comedy|Fantasy   77024.0     4.5   \n",
       "...                                              ...       ...     ...   \n",
       "2785192      Action|Animation|Children|Comedy|Sci-Fi   41638.0     4.0   \n",
       "2785193      Action|Animation|Children|Comedy|Sci-Fi   60730.0     4.0   \n",
       "2785194      Action|Animation|Children|Comedy|Sci-Fi  106430.0     5.0   \n",
       "2785195      Action|Animation|Children|Comedy|Sci-Fi  157539.0     3.0   \n",
       "2785196      Action|Animation|Children|Comedy|Sci-Fi   19528.0     2.0   \n",
       "\n",
       "            timestamp  year  \n",
       "0        1.165810e+09  1995  \n",
       "1        9.759794e+08  1995  \n",
       "2        1.545170e+09  1995  \n",
       "3        1.483595e+09  1995  \n",
       "4        1.341102e+09  1995  \n",
       "...               ...   ...  \n",
       "2785192  1.695693e+09  2023  \n",
       "2785193  1.696293e+09  2023  \n",
       "2785194  1.694894e+09  2023  \n",
       "2785195  1.693911e+09  2023  \n",
       "2785196  1.693845e+09  2023  \n",
       "\n",
       "[2785197 rows x 9 columns]"
      ]
     },
     "execution_count": 40,
     "metadata": {},
     "output_type": "execute_result"
    }
   ],
   "source": [
    "df_sample"
   ]
  },
  {
   "cell_type": "code",
   "execution_count": 41,
   "id": "1ea23a69",
   "metadata": {
    "id": "1ea23a69",
    "outputId": "3e4acc39-4c65-447f-b74d-7214740279ec",
    "scrolled": false
   },
   "outputs": [
    {
     "data": {
      "text/html": [
       "<div>\n",
       "<style scoped>\n",
       "    .dataframe tbody tr th:only-of-type {\n",
       "        vertical-align: middle;\n",
       "    }\n",
       "\n",
       "    .dataframe tbody tr th {\n",
       "        vertical-align: top;\n",
       "    }\n",
       "\n",
       "    .dataframe thead th {\n",
       "        text-align: right;\n",
       "    }\n",
       "</style>\n",
       "<table border=\"1\" class=\"dataframe\">\n",
       "  <thead>\n",
       "    <tr style=\"text-align: right;\">\n",
       "      <th></th>\n",
       "      <th>movieId</th>\n",
       "      <th>imdbId</th>\n",
       "      <th>tmdbId</th>\n",
       "      <th>title</th>\n",
       "      <th>genres</th>\n",
       "      <th>userId</th>\n",
       "      <th>rating</th>\n",
       "      <th>timestamp</th>\n",
       "      <th>year</th>\n",
       "    </tr>\n",
       "  </thead>\n",
       "  <tbody>\n",
       "    <tr>\n",
       "      <th>0</th>\n",
       "      <td>1</td>\n",
       "      <td>114709.0</td>\n",
       "      <td>862.0</td>\n",
       "      <td>Toy Story</td>\n",
       "      <td>Adventure|Animation|Children|Comedy|Fantasy</td>\n",
       "      <td>36641.0</td>\n",
       "      <td>1.5</td>\n",
       "      <td>2006-12-11 04:07:58</td>\n",
       "      <td>1995</td>\n",
       "    </tr>\n",
       "    <tr>\n",
       "      <th>1</th>\n",
       "      <td>1</td>\n",
       "      <td>114709.0</td>\n",
       "      <td>862.0</td>\n",
       "      <td>Toy Story</td>\n",
       "      <td>Adventure|Animation|Children|Comedy|Fantasy</td>\n",
       "      <td>70379.0</td>\n",
       "      <td>4.0</td>\n",
       "      <td>2000-12-05 01:22:48</td>\n",
       "      <td>1995</td>\n",
       "    </tr>\n",
       "    <tr>\n",
       "      <th>2</th>\n",
       "      <td>1</td>\n",
       "      <td>114709.0</td>\n",
       "      <td>862.0</td>\n",
       "      <td>Toy Story</td>\n",
       "      <td>Adventure|Animation|Children|Comedy|Fantasy</td>\n",
       "      <td>88400.0</td>\n",
       "      <td>3.5</td>\n",
       "      <td>2018-12-18 21:45:18</td>\n",
       "      <td>1995</td>\n",
       "    </tr>\n",
       "    <tr>\n",
       "      <th>3</th>\n",
       "      <td>1</td>\n",
       "      <td>114709.0</td>\n",
       "      <td>862.0</td>\n",
       "      <td>Toy Story</td>\n",
       "      <td>Adventure|Animation|Children|Comedy|Fantasy</td>\n",
       "      <td>171266.0</td>\n",
       "      <td>4.0</td>\n",
       "      <td>2017-01-05 05:48:10</td>\n",
       "      <td>1995</td>\n",
       "    </tr>\n",
       "    <tr>\n",
       "      <th>4</th>\n",
       "      <td>1</td>\n",
       "      <td>114709.0</td>\n",
       "      <td>862.0</td>\n",
       "      <td>Toy Story</td>\n",
       "      <td>Adventure|Animation|Children|Comedy|Fantasy</td>\n",
       "      <td>77024.0</td>\n",
       "      <td>4.5</td>\n",
       "      <td>2012-07-01 00:22:45</td>\n",
       "      <td>1995</td>\n",
       "    </tr>\n",
       "    <tr>\n",
       "      <th>...</th>\n",
       "      <td>...</td>\n",
       "      <td>...</td>\n",
       "      <td>...</td>\n",
       "      <td>...</td>\n",
       "      <td>...</td>\n",
       "      <td>...</td>\n",
       "      <td>...</td>\n",
       "      <td>...</td>\n",
       "      <td>...</td>\n",
       "    </tr>\n",
       "    <tr>\n",
       "      <th>2785192</th>\n",
       "      <td>289253</td>\n",
       "      <td>8589698.0</td>\n",
       "      <td>614930.0</td>\n",
       "      <td>Teenage Mutant Ninja Turtles: Mutant Mayhem</td>\n",
       "      <td>Action|Animation|Children|Comedy|Sci-Fi</td>\n",
       "      <td>41638.0</td>\n",
       "      <td>4.0</td>\n",
       "      <td>2023-09-26 01:43:04</td>\n",
       "      <td>2023</td>\n",
       "    </tr>\n",
       "    <tr>\n",
       "      <th>2785193</th>\n",
       "      <td>289253</td>\n",
       "      <td>8589698.0</td>\n",
       "      <td>614930.0</td>\n",
       "      <td>Teenage Mutant Ninja Turtles: Mutant Mayhem</td>\n",
       "      <td>Action|Animation|Children|Comedy|Sci-Fi</td>\n",
       "      <td>60730.0</td>\n",
       "      <td>4.0</td>\n",
       "      <td>2023-10-03 00:26:39</td>\n",
       "      <td>2023</td>\n",
       "    </tr>\n",
       "    <tr>\n",
       "      <th>2785194</th>\n",
       "      <td>289253</td>\n",
       "      <td>8589698.0</td>\n",
       "      <td>614930.0</td>\n",
       "      <td>Teenage Mutant Ninja Turtles: Mutant Mayhem</td>\n",
       "      <td>Action|Animation|Children|Comedy|Sci-Fi</td>\n",
       "      <td>106430.0</td>\n",
       "      <td>5.0</td>\n",
       "      <td>2023-09-16 19:46:49</td>\n",
       "      <td>2023</td>\n",
       "    </tr>\n",
       "    <tr>\n",
       "      <th>2785195</th>\n",
       "      <td>289253</td>\n",
       "      <td>8589698.0</td>\n",
       "      <td>614930.0</td>\n",
       "      <td>Teenage Mutant Ninja Turtles: Mutant Mayhem</td>\n",
       "      <td>Action|Animation|Children|Comedy|Sci-Fi</td>\n",
       "      <td>157539.0</td>\n",
       "      <td>3.0</td>\n",
       "      <td>2023-09-05 10:49:18</td>\n",
       "      <td>2023</td>\n",
       "    </tr>\n",
       "    <tr>\n",
       "      <th>2785196</th>\n",
       "      <td>289253</td>\n",
       "      <td>8589698.0</td>\n",
       "      <td>614930.0</td>\n",
       "      <td>Teenage Mutant Ninja Turtles: Mutant Mayhem</td>\n",
       "      <td>Action|Animation|Children|Comedy|Sci-Fi</td>\n",
       "      <td>19528.0</td>\n",
       "      <td>2.0</td>\n",
       "      <td>2023-09-04 16:23:32</td>\n",
       "      <td>2023</td>\n",
       "    </tr>\n",
       "  </tbody>\n",
       "</table>\n",
       "<p>2785197 rows × 9 columns</p>\n",
       "</div>"
      ],
      "text/plain": [
       "         movieId     imdbId    tmdbId  \\\n",
       "0              1   114709.0     862.0   \n",
       "1              1   114709.0     862.0   \n",
       "2              1   114709.0     862.0   \n",
       "3              1   114709.0     862.0   \n",
       "4              1   114709.0     862.0   \n",
       "...          ...        ...       ...   \n",
       "2785192   289253  8589698.0  614930.0   \n",
       "2785193   289253  8589698.0  614930.0   \n",
       "2785194   289253  8589698.0  614930.0   \n",
       "2785195   289253  8589698.0  614930.0   \n",
       "2785196   289253  8589698.0  614930.0   \n",
       "\n",
       "                                               title  \\\n",
       "0                                          Toy Story   \n",
       "1                                          Toy Story   \n",
       "2                                          Toy Story   \n",
       "3                                          Toy Story   \n",
       "4                                          Toy Story   \n",
       "...                                              ...   \n",
       "2785192  Teenage Mutant Ninja Turtles: Mutant Mayhem   \n",
       "2785193  Teenage Mutant Ninja Turtles: Mutant Mayhem   \n",
       "2785194  Teenage Mutant Ninja Turtles: Mutant Mayhem   \n",
       "2785195  Teenage Mutant Ninja Turtles: Mutant Mayhem   \n",
       "2785196  Teenage Mutant Ninja Turtles: Mutant Mayhem   \n",
       "\n",
       "                                              genres    userId  rating  \\\n",
       "0        Adventure|Animation|Children|Comedy|Fantasy   36641.0     1.5   \n",
       "1        Adventure|Animation|Children|Comedy|Fantasy   70379.0     4.0   \n",
       "2        Adventure|Animation|Children|Comedy|Fantasy   88400.0     3.5   \n",
       "3        Adventure|Animation|Children|Comedy|Fantasy  171266.0     4.0   \n",
       "4        Adventure|Animation|Children|Comedy|Fantasy   77024.0     4.5   \n",
       "...                                              ...       ...     ...   \n",
       "2785192      Action|Animation|Children|Comedy|Sci-Fi   41638.0     4.0   \n",
       "2785193      Action|Animation|Children|Comedy|Sci-Fi   60730.0     4.0   \n",
       "2785194      Action|Animation|Children|Comedy|Sci-Fi  106430.0     5.0   \n",
       "2785195      Action|Animation|Children|Comedy|Sci-Fi  157539.0     3.0   \n",
       "2785196      Action|Animation|Children|Comedy|Sci-Fi   19528.0     2.0   \n",
       "\n",
       "                  timestamp  year  \n",
       "0       2006-12-11 04:07:58  1995  \n",
       "1       2000-12-05 01:22:48  1995  \n",
       "2       2018-12-18 21:45:18  1995  \n",
       "3       2017-01-05 05:48:10  1995  \n",
       "4       2012-07-01 00:22:45  1995  \n",
       "...                     ...   ...  \n",
       "2785192 2023-09-26 01:43:04  2023  \n",
       "2785193 2023-10-03 00:26:39  2023  \n",
       "2785194 2023-09-16 19:46:49  2023  \n",
       "2785195 2023-09-05 10:49:18  2023  \n",
       "2785196 2023-09-04 16:23:32  2023  \n",
       "\n",
       "[2785197 rows x 9 columns]"
      ]
     },
     "execution_count": 41,
     "metadata": {},
     "output_type": "execute_result"
    }
   ],
   "source": [
    "# Converting the timestamp column to datetime format\n",
    "df_sample['timestamp'] = pd.to_datetime(df_sample['timestamp'], unit='s')\n",
    "df_sample"
   ]
  },
  {
   "cell_type": "code",
   "execution_count": null,
   "id": "0fc8f4af",
   "metadata": {
    "id": "0fc8f4af",
    "outputId": "3bb862d2-f805-4047-9754-7435e5e0b07c"
   },
   "outputs": [],
   "source": [
    "# Filtering movies rated by at least 10 users\n",
    "movie_rating_counts = df_sample.groupby('title')['rating'].count()\n",
    "movies_with_enough_ratings = movie_rating_counts[movie_rating_counts >= 50].index\n",
    "\n",
    "# Filtering the original dataframe to only include those movies\n",
    "filtered_df = df_sample[df_sample['title'].isin(movies_with_enough_ratings)]\n",
    "\n",
    "# Calculate the top 10 highest rated movies\n",
    "top_10_highest_rated = filtered_df.groupby('title')['rating'].mean().sort_values(ascending=False).head(10)\n",
    "\n",
    "# Plotting the result\n",
    "plt.figure(figsize=(10, 6))\n",
    "top_10_highest_rated.plot(kind='barh', color='green')\n",
    "plt.title('Top 10 Highest Rated Movies (Rated by at Least 10 Users)')\n",
    "plt.xlabel('Average Rating')\n",
    "plt.ylabel('Movie Title')\n",
    "plt.show()\n"
   ]
  },
  {
   "cell_type": "code",
   "execution_count": null,
   "id": "07e8ae70",
   "metadata": {
    "id": "07e8ae70",
    "outputId": "4314dfae-f2b5-4189-bb3f-0f06694db340"
   },
   "outputs": [],
   "source": [
    "# Filter to only consider movies rated by at least 10 users\n",
    "movie_rating_counts = df_sample.groupby('title')['rating'].count()\n",
    "movies_with_enough_ratings = movie_rating_counts[movie_rating_counts >= 50].index\n",
    "\n",
    "# Filtering the original dataframe to only include those movies\n",
    "filtered_df = df_sample[df_sample['title'].isin(movies_with_enough_ratings)]\n",
    "\n",
    "# Calculate the top 10 lowest rated movies\n",
    "top_10_lowest_rated = filtered_df.groupby('title')['rating'].mean().sort_values().head(10)\n",
    "\n",
    "# Plot the result\n",
    "plt.figure(figsize=(10, 6))\n",
    "top_10_lowest_rated.plot(kind='barh', color='red')\n",
    "plt.title('Top 10 Lowest Rated Movies (Rated by at Least 10 Users)')\n",
    "plt.xlabel('Average Rating')\n",
    "plt.ylabel('Movie Title')\n",
    "plt.show()\n"
   ]
  },
  {
   "cell_type": "code",
   "execution_count": null,
   "id": "fd45f592",
   "metadata": {
    "id": "fd45f592",
    "outputId": "e206c313-3eca-4d93-929e-33633eccfca5"
   },
   "outputs": [],
   "source": [
    "# The number of ratings over time using the timestamp column\n",
    "df_sample['timestamp'] = pd.to_datetime(df_sample['timestamp'], unit='s')\n",
    "df_sample['year_month'] = df_sample['timestamp'].dt.to_period('M')\n",
    "ratings_over_time = df_sample.groupby('year_month')['rating'].count()\n",
    "\n",
    "plt.figure(figsize=(12, 6))\n",
    "ratings_over_time.plot(kind='line', color='blue')\n",
    "plt.title('Number of Ratings Over Time')\n",
    "plt.xlabel('Time')\n",
    "plt.ylabel('Number of Ratings')\n",
    "plt.show()\n"
   ]
  },
  {
   "cell_type": "code",
   "execution_count": null,
   "id": "32aa4b80",
   "metadata": {
    "id": "32aa4b80",
    "outputId": "9da50531-b0cf-430f-ac9e-e625155b10ab"
   },
   "outputs": [],
   "source": [
    "# Finding Average rating over the years using timestamp\n",
    "df_sample['year'] = df_sample['timestamp'].dt.year\n",
    "average_rating_by_year = df_sample.groupby('year')['rating'].mean()\n",
    "\n",
    "plt.figure(figsize=(10, 6))\n",
    "average_rating_by_year.plot(kind='line', color='purple')\n",
    "plt.title('Average Rating Over the Years')\n",
    "plt.xlabel('Year')\n",
    "plt.ylabel('Average Rating')\n",
    "plt.show()\n"
   ]
  },
  {
   "cell_type": "code",
   "execution_count": null,
   "id": "62afe3a5",
   "metadata": {
    "id": "62afe3a5",
    "outputId": "4c403c1d-f559-4c8e-f779-9483e887b216"
   },
   "outputs": [],
   "source": [
    "# Finding Top 10 most popular movies by number of ratings\n",
    "top_10_most_popular_movies = df_sample.groupby('title')['rating'].count().sort_values(ascending=False).head(10)\n",
    "\n",
    "plt.figure(figsize=(10, 6))\n",
    "top_10_most_popular_movies.plot(kind='barh', color='orange')\n",
    "plt.title('Top 10 Most Popular Movies')\n",
    "plt.xlabel('Number of Ratings')\n",
    "plt.ylabel('Movie Title')\n",
    "plt.show()\n"
   ]
  },
  {
   "cell_type": "code",
   "execution_count": null,
   "id": "87529c3e",
   "metadata": {
    "id": "87529c3e",
    "outputId": "023153e5-f934-4cf2-ac4f-40699b04b5ed"
   },
   "outputs": [],
   "source": [
    "# Finding Top 5 most popular genres\n",
    "df_sample['genres'] = df_sample['genres'].str.split('|')\n",
    "genres_list = df_sample['genres'].explode().value_counts().head(5)\n",
    "\n",
    "plt.figure(figsize=(10, 6))\n",
    "genres_list.plot(kind='bar', color='brown')\n",
    "plt.title('Top 5 Most Popular Genres')\n",
    "plt.xlabel('Genre')\n",
    "plt.ylabel('Number of Ratings')\n",
    "plt.show()"
   ]
  },
  {
   "cell_type": "code",
   "execution_count": null,
   "id": "fefbadab",
   "metadata": {
    "id": "fefbadab",
    "outputId": "b9b305cc-f247-4f8d-880d-6b53fe2f9b98"
   },
   "outputs": [],
   "source": [
    "df_sample.info()"
   ]
  },
  {
   "cell_type": "code",
   "execution_count": null,
   "id": "249cf52c",
   "metadata": {
    "id": "249cf52c",
    "outputId": "9eb8190d-d841-4695-9094-6d91a6e4be60"
   },
   "outputs": [],
   "source": [
    "num_unique_movies = df_sample['movieId'].nunique()\n",
    "print(\"Number of unique movies:\", num_unique_movies)"
   ]
  },
  {
   "cell_type": "code",
   "execution_count": null,
   "id": "d1185784",
   "metadata": {
    "id": "d1185784",
    "outputId": "10a6e42a-87dd-4db4-939f-2d435218b160"
   },
   "outputs": [],
   "source": [
    "print(df_sample.columns)\n"
   ]
  },
  {
   "cell_type": "code",
   "execution_count": null,
   "id": "a4f9e462",
   "metadata": {
    "id": "a4f9e462"
   },
   "outputs": [],
   "source": [
    "# Set seed for reproducibility\n",
    "np.random.seed(42)\n",
    "\n",
    "# Drop NaNs and ensure tmdbId is integer\n",
    "unique_movies = df_sample['tmdbId'].dropna().astype(int).unique()\n",
    "\n",
    "# Sample 1000 unique movies for test batch\n",
    "sampled_movie_ids = np.random.choice(unique_movies, size=1000, replace=False)\n",
    "\n"
   ]
  },
  {
   "cell_type": "code",
   "execution_count": null,
   "id": "017b833f",
   "metadata": {
    "id": "017b833f"
   },
   "outputs": [],
   "source": [
    "# Save test batch for reference\n",
    "df_sampled_test = df_sample[df_sample['tmdbId'].isin(sampled_movie_ids)]\n",
    "df_sampled_test.to_csv(\"df_sampled_test.csv\", index=False)\n",
    "\n",
    "# Save processed_ids file\n",
    "processed_ids = set(sampled_movie_ids)\n",
    "pd.Series(list(processed_ids)).to_csv(\"processed_ids.csv\", index=False)\n",
    "\n"
   ]
  },
  {
   "cell_type": "code",
   "execution_count": null,
   "id": "b8db088f",
   "metadata": {
    "id": "b8db088f"
   },
   "outputs": [],
   "source": [
    "async def fetch_movie_info(session, movie_id):\n",
    "    credits_url = f\"https://api.themoviedb.org/3/movie/{int(movie_id)}/credits?api_key={API_KEY}\"\n",
    "    details_url = f\"https://api.themoviedb.org/3/movie/{int(movie_id)}?api_key={API_KEY}\"\n",
    "\n",
    "    try:\n",
    "        async with session.get(credits_url) as credits_response:\n",
    "            if credits_response.status != 200:\n",
    "                return None\n",
    "            credits_data = await credits_response.json()\n",
    "\n",
    "        async with session.get(details_url) as details_response:\n",
    "            if details_response.status != 200:\n",
    "                return None\n",
    "            details_data = await details_response.json()\n",
    "\n",
    "        director = next((p['name'] for p in credits_data.get(\"crew\", []) if p.get(\"job\") == \"Director\"), 'n/a')\n",
    "\n",
    "        cast = credits_data.get(\"cast\", [])\n",
    "        top_actors = [actor.get(\"name\", \"n/a\") for actor in cast[:3]]\n",
    "        while len(top_actors) < 3:\n",
    "            top_actors.append(\"n/a\")\n",
    "\n",
    "        description = details_data.get(\"overview\", \"n/a\")\n",
    "\n",
    "        poster_path = details_data.get(\"poster_path\")\n",
    "        poster_url = f\"https://image.tmdb.org/t/p/w500{poster_path}\" if poster_path else \"https://via.placeholder.com/500x750?text=No+Image\"\n",
    "\n",
    "        return {\n",
    "            \"movie_id\": movie_id,\n",
    "            \"director\": director,\n",
    "            \"actor1\": top_actors[0],\n",
    "            \"actor2\": top_actors[1],\n",
    "            \"actor3\": top_actors[2],\n",
    "            \"description\": description,\n",
    "            \"poster_url\": poster_url\n",
    "        }\n",
    "\n",
    "    except Exception as e:\n",
    "        print(f\"Error fetching data for movie ID {movie_id}: {e}\")\n",
    "        traceback.print_exc()\n",
    "        return None\n"
   ]
  },
  {
   "cell_type": "code",
   "execution_count": null,
   "id": "0bb82673",
   "metadata": {
    "id": "0bb82673"
   },
   "outputs": [],
   "source": [
    "async def collect_movie_data(movie_ids):\n",
    "    connector = aiohttp.TCPConnector(limit=40)\n",
    "    timeout = aiohttp.ClientTimeout(total=60)\n",
    "    results = []\n",
    "\n",
    "    async with aiohttp.ClientSession(connector=connector, timeout=timeout) as session:\n",
    "        tasks = [fetch_movie_info(session, mid) for mid in movie_ids]\n",
    "        for f in tqdm(asyncio.as_completed(tasks), total=len(tasks)):\n",
    "            result = await f\n",
    "            if result:\n",
    "                results.append(result)\n",
    "\n",
    "    return results\n"
   ]
  },
  {
   "cell_type": "code",
   "execution_count": null,
   "id": "7e6b4eb5",
   "metadata": {
    "id": "7e6b4eb5",
    "outputId": "580d080c-4a25-4c95-a960-36f08deb6df1"
   },
   "outputs": [],
   "source": [
    "# Run initial batch\n",
    "results = await collect_movie_data(sampled_movie_ids)\n",
    "pd.DataFrame(results).to_csv(\"rec_info_df_batch1.csv\", index=False)\n",
    "\n",
    "# Loop over remaining movie IDs\n",
    "processed_ids = set(pd.read_csv(\"processed_ids.csv\").squeeze(\"columns\").tolist())\n",
    "remaining_ids = [mid for mid in unique_movies if mid not in processed_ids]\n"
   ]
  },
  {
   "cell_type": "code",
   "execution_count": null,
   "id": "b3cae9f3",
   "metadata": {
    "id": "b3cae9f3",
    "outputId": "28794fd4-c5fb-48de-8005-3fba19e3e663"
   },
   "outputs": [],
   "source": [
    "batch_num = 2\n",
    "batch_size = 2000\n",
    "\n",
    "while remaining_ids:\n",
    "    batch_ids = remaining_ids[:batch_size]\n",
    "    remaining_ids = remaining_ids[batch_size:]\n",
    "\n",
    "    results = await collect_movie_data(batch_ids)\n",
    "    pd.DataFrame(results).to_csv(f\"rec_info_df_batch{batch_num}.csv\", index=False)\n",
    "\n",
    "    processed_ids.update(batch_ids)\n",
    "    pd.Series(list(processed_ids)).to_csv(\"processed_ids.csv\", index=False)\n",
    "\n",
    "    batch_num += 1"
   ]
  },
  {
   "cell_type": "code",
   "execution_count": null,
   "id": "RTXc4XmG3hMw",
   "metadata": {
    "id": "RTXc4XmG3hMw"
   },
   "outputs": [],
   "source": [
    "# Combining all batches\n",
    "all_batches = glob.glob(\"rec_info_df_batch*.csv\")\n",
    "full_df = pd.concat([pd.read_csv(f) for f in all_batches], ignore_index=True)\n",
    "full_df.to_csv(\"rec_info_full_dataset.csv\", index=False)"
   ]
  },
  {
   "cell_type": "code",
   "execution_count": null,
   "id": "d6b24586",
   "metadata": {
    "id": "d6b24586"
   },
   "outputs": [],
   "source": [
    "# Keep rows with at least 2 non-NA values\n",
    "extra_values = full_df.dropna(thresh=2)\n"
   ]
  },
  {
   "cell_type": "code",
   "execution_count": null,
   "id": "8aef8bcf",
   "metadata": {
    "id": "8aef8bcf"
   },
   "outputs": [],
   "source": [
    "# Save extra_values\n",
    "extra_values_path = os.path.join(save_dir, \"extra_values.csv\")\n",
    "extra_values.to_csv(extra_values_path, index=False)"
   ]
  },
  {
   "cell_type": "code",
   "execution_count": null,
   "id": "c3273910",
   "metadata": {
    "id": "c3273910",
    "outputId": "51f20b24-4110-49b0-ca10-d14e33a99772",
    "scrolled": true
   },
   "outputs": [],
   "source": [
    "extra_values"
   ]
  },
  {
   "cell_type": "code",
   "execution_count": null,
   "id": "b5c88e85",
   "metadata": {
    "id": "b5c88e85"
   },
   "outputs": [],
   "source": [
    "# First, prepare a mapping of tmdbId → title from df_sample\n",
    "df_sample['tmdbId'] = df_sample['tmdbId'].astype(int)\n",
    "tmdb_titles = df_sample[['tmdbId', 'title']].drop_duplicates()\n"
   ]
  },
  {
   "cell_type": "code",
   "execution_count": null,
   "id": "2870429f",
   "metadata": {
    "id": "2870429f"
   },
   "outputs": [],
   "source": [
    "# Rename properly if needed (you're calling it movieId but it's really tmdbId)\n",
    "extra_values.rename(columns={'movie_id': 'tmdbId'}, inplace=True)"
   ]
  },
  {
   "cell_type": "code",
   "execution_count": null,
   "id": "26f69f8f",
   "metadata": {
    "id": "26f69f8f",
    "outputId": "2e879f33-3049-4929-fddd-a2345db25731"
   },
   "outputs": [],
   "source": [
    "extra_values"
   ]
  },
  {
   "cell_type": "code",
   "execution_count": null,
   "id": "16c98e9b",
   "metadata": {
    "id": "16c98e9b"
   },
   "outputs": [],
   "source": [
    "extra_values['tmdbId'] = extra_values['tmdbId'].astype(int)"
   ]
  },
  {
   "cell_type": "code",
   "execution_count": null,
   "id": "6f73e06b",
   "metadata": {
    "id": "6f73e06b",
    "outputId": "83d84893-b51f-4d23-8cb5-11d5050a76cd"
   },
   "outputs": [],
   "source": [
    "extra_values.info()"
   ]
  },
  {
   "cell_type": "code",
   "execution_count": null,
   "id": "b79bee8f",
   "metadata": {
    "id": "b79bee8f",
    "outputId": "da2db7fa-6d95-4885-ff53-975526a75dd4"
   },
   "outputs": [],
   "source": [
    "tmdb_titles"
   ]
  },
  {
   "cell_type": "code",
   "execution_count": null,
   "id": "9bf1f830",
   "metadata": {
    "id": "9bf1f830"
   },
   "outputs": [],
   "source": [
    "extra_values = extra_values.merge(tmdb_titles, on='tmdbId', how='left')\n"
   ]
  },
  {
   "cell_type": "code",
   "execution_count": null,
   "id": "a3e07380",
   "metadata": {
    "id": "a3e07380",
    "outputId": "13ef0343-2b7c-4cae-d360-d88ce0723ade"
   },
   "outputs": [],
   "source": [
    "extra_values['title'].isna().sum()\n"
   ]
  },
  {
   "cell_type": "code",
   "execution_count": null,
   "id": "0198eaf8",
   "metadata": {
    "id": "0198eaf8",
    "outputId": "4fdee21d-76c1-4018-eb60-5be17f1f38bc"
   },
   "outputs": [],
   "source": [
    "df_sample"
   ]
  },
  {
   "cell_type": "code",
   "execution_count": null,
   "id": "ce8f8607",
   "metadata": {
    "id": "ce8f8607"
   },
   "outputs": [],
   "source": [
    "extra_values.to_csv(\"extra_values.csv\", index=False)\n"
   ]
  },
  {
   "cell_type": "code",
   "execution_count": null,
   "id": "CxFur6LfCsRr",
   "metadata": {
    "colab": {
     "base_uri": "https://localhost:8080/"
    },
    "id": "CxFur6LfCsRr",
    "outputId": "fb9eccac-93a7-4f4a-b6e6-0dda29ab3858"
   },
   "outputs": [],
   "source": [
    "df_sample['tmdbId'].nunique()"
   ]
  },
  {
   "cell_type": "code",
   "execution_count": null,
   "id": "2EjBcXpxDA3N",
   "metadata": {
    "colab": {
     "base_uri": "https://localhost:8080/"
    },
    "id": "2EjBcXpxDA3N",
    "outputId": "ac506263-2471-4ad1-ae5e-c84a4a01391f"
   },
   "outputs": [],
   "source": [
    "extra_values['tmdbId'].nunique()"
   ]
  },
  {
   "cell_type": "code",
   "execution_count": null,
   "id": "f5003409",
   "metadata": {
    "id": "f5003409",
    "outputId": "a6f97c25-f789-4d9d-b894-d5b66f441f45"
   },
   "outputs": [],
   "source": [
    "extra_values.info()"
   ]
  },
  {
   "cell_type": "code",
   "execution_count": null,
   "id": "b25cd0b9",
   "metadata": {
    "id": "b25cd0b9",
    "outputId": "3b814429-30f5-4172-9605-a1ef95b66588"
   },
   "outputs": [],
   "source": [
    "df_sample.info()"
   ]
  },
  {
   "cell_type": "code",
   "execution_count": null,
   "id": "b32943fb",
   "metadata": {
    "id": "b32943fb"
   },
   "outputs": [],
   "source": [
    "# Reverse map: tmdbId -> index in extra_values\n",
    "indices = pd.Series(extra_values.index, index=extra_values['tmdbId']).drop_duplicates()"
   ]
  },
  {
   "cell_type": "code",
   "execution_count": null,
   "id": "9bb9c52a",
   "metadata": {
    "id": "9bb9c52a",
    "outputId": "1760f284-5388-4adf-a949-0fbb91444158"
   },
   "outputs": [],
   "source": [
    "extra_values"
   ]
  },
  {
   "cell_type": "code",
   "execution_count": null,
   "id": "008621f7",
   "metadata": {
    "id": "008621f7",
    "outputId": "358480ed-796a-4078-fe65-4455726372a5"
   },
   "outputs": [],
   "source": [
    "df_sample"
   ]
  },
  {
   "cell_type": "code",
   "execution_count": 42,
   "id": "1012e2c1",
   "metadata": {
    "id": "1012e2c1"
   },
   "outputs": [],
   "source": [
    "# Load data\n",
    "df_sample = pd.read_csv('df_sample.csv')\n",
    "extra_values = pd.read_csv('extra_values.csv')\n",
    "\n",
    "# Keep only valid tmdbIds\n",
    "valid_tmdb_ids = set(extra_values['tmdbId'])\n",
    "df_sample = df_sample[df_sample['tmdbId'].isin(valid_tmdb_ids)].copy()\n",
    "\n",
    "# Ensure correct types\n",
    "df_sample['tmdbId'] = df_sample['tmdbId'].astype(int)\n",
    "extra_values['tmdbId'] = extra_values['tmdbId'].astype(int)\n"
   ]
  },
  {
   "cell_type": "code",
   "execution_count": 43,
   "id": "N9pIQuzC0B4l",
   "metadata": {
    "id": "N9pIQuzC0B4l"
   },
   "outputs": [],
   "source": [
    "movie_counts = df_sample['movieId'].value_counts()\n"
   ]
  },
  {
   "cell_type": "code",
   "execution_count": 44,
   "id": "YIEudofK0E5J",
   "metadata": {
    "colab": {
     "base_uri": "https://localhost:8080/",
     "height": 487
    },
    "id": "YIEudofK0E5J",
    "outputId": "78ab345e-7c47-4822-bc6f-d24eceebf94d"
   },
   "outputs": [
    {
     "data": {
      "image/png": "[encoded data removed]",
      "text/plain": [
       "<Figure size 1000x500 with 1 Axes>"
      ]
     },
     "metadata": {},
     "output_type": "display_data"
    }
   ],
   "source": [
    "import matplotlib.pyplot as plt\n",
    "\n",
    "plt.figure(figsize=(10, 5))\n",
    "movie_counts.hist(bins=100)\n",
    "plt.title(\"Distribution of Movie Rating Counts\")\n",
    "plt.xlabel(\"Number of Ratings per Movie\")\n",
    "plt.ylabel(\"Number of Movies\")\n",
    "plt.show()\n"
   ]
  },
  {
   "cell_type": "code",
   "execution_count": 45,
   "id": "wLn8wxL70R4-",
   "metadata": {
    "colab": {
     "base_uri": "https://localhost:8080/"
    },
    "id": "wLn8wxL70R4-",
    "outputId": "bd37331a-792f-4661-ad7d-1f0aa8766c06"
   },
   "outputs": [
    {
     "name": "stdout",
     "output_type": "stream",
     "text": [
      "Top 10 Most Rated Movies:\n",
      "   movieId                                              title  num_ratings\n",
      "0        1                                   Toy Story (1995)         1000\n",
      "1     5254                                    Blade II (2002)         1000\n",
      "2     5266                                  Panic Room (2002)         1000\n",
      "3     5293                              Changing Lanes (2002)         1000\n",
      "4     5299                    My Big Fat Greek Wedding (2002)         1000\n",
      "5     5313                           The Scorpion King (2002)         1000\n",
      "6     5349                                  Spider-Man (2002)         1000\n",
      "7     5377                                 About a Boy (2002)         1000\n",
      "8     5378  Star Wars: Episode II - Attack of the Clones (...         1000\n",
      "9     5400                       Sum of All Fears, The (2002)         1000\n"
     ]
    }
   ],
   "source": [
    "movie_counts = df_sample['movieId'].value_counts()\n",
    "top_10_most_rated_ids = movie_counts.head(10).index\n",
    "\n",
    "top_10_most_rated = df_sample[df_sample['movieId'].isin(top_10_most_rated_ids)]\n",
    "top_10_most_rated = top_10_most_rated.groupby(['movieId', 'title']).size().reset_index(name='num_ratings')\n",
    "top_10_most_rated = top_10_most_rated.sort_values('num_ratings', ascending=False)\n",
    "\n",
    "print(\"Top 10 Most Rated Movies:\")\n",
    "print(top_10_most_rated)\n"
   ]
  },
  {
   "cell_type": "code",
   "execution_count": 46,
   "id": "199yUIYB0Ukd",
   "metadata": {
    "colab": {
     "base_uri": "https://localhost:8080/"
    },
    "id": "199yUIYB0Ukd",
    "outputId": "2bfed81d-c2b8-4a57-e28b-94ee059c5bb0"
   },
   "outputs": [
    {
     "name": "stdout",
     "output_type": "stream",
     "text": [
      "\n",
      "Top 10 Least Rated Movies:\n",
      "   movieId                                              title  num_ratings\n",
      "7     2129  Saltmen of Tibet, The (Salzmänner von Tibet, D...            7\n",
      "6     2063          Seventh Heaven (Septième ciel, Le) (1997)            8\n",
      "0      843                                  Lotto Land (1995)            9\n",
      "4      989          Brother of Sleep (Schlafes Bruder) (1995)            9\n",
      "5     1555         To Have, or Not (En avoir (ou pas)) (1995)            9\n",
      "8     2768                            Stiff Upper Lips (1998)            9\n",
      "1      856                             Mille bolle blu (1993)           10\n",
      "2      868                          Death in Brunswick (1991)           10\n",
      "3      871                                Lover's Knot (1996)           10\n",
      "9     2831                           A Dog of Flanders (1999)           10\n"
     ]
    }
   ],
   "source": [
    "# Reverse sorted rating counts\n",
    "bottom_10_least_rated_ids = movie_counts.sort_values().head(10).index\n",
    "\n",
    "bottom_10_least_rated = df_sample[df_sample['movieId'].isin(bottom_10_least_rated_ids)]\n",
    "bottom_10_least_rated = bottom_10_least_rated.groupby(['movieId', 'title']).size().reset_index(name='num_ratings')\n",
    "bottom_10_least_rated = bottom_10_least_rated.sort_values('num_ratings')\n",
    "\n",
    "print(\"\\nTop 10 Least Rated Movies:\")\n",
    "print(bottom_10_least_rated)\n"
   ]
  },
  {
   "cell_type": "code",
   "execution_count": 47,
   "id": "3fe06c1d",
   "metadata": {},
   "outputs": [],
   "source": [
    "movie_counts = df_sample['movieId'].value_counts()\n",
    "eligible_movies = movie_counts[movie_counts >= 30].index\n",
    "\n",
    "df_sample = df_sample[df_sample['movieId'].isin(eligible_movies)].copy()\n"
   ]
  },
  {
   "cell_type": "code",
   "execution_count": 48,
   "id": "5ca2b622",
   "metadata": {},
   "outputs": [
    {
     "name": "stdout",
     "output_type": "stream",
     "text": [
      "Movies with ≥30 ratings: 7806\n",
      "Remaining ratings in df_sample: 2746940\n",
      "Remaining users: 10000\n"
     ]
    }
   ],
   "source": [
    "print(\"Movies with ≥30 ratings:\", len(eligible_movies))\n",
    "print(\"Remaining ratings in df_sample:\", len(df_sample))\n",
    "print(\"Remaining users:\", df_sample['userId'].nunique())\n"
   ]
  },
  {
   "cell_type": "code",
   "execution_count": 49,
   "id": "c6b3a8b1",
   "metadata": {},
   "outputs": [],
   "source": [
    "# Keep only valid tmdbIds\n",
    "valid_tmdb_ids2 = set(extra_values['tmdbId'])\n",
    "df_sample = df_sample[df_sample['tmdbId'].isin(valid_tmdb_ids2)].copy()"
   ]
  },
  {
   "cell_type": "code",
   "execution_count": 50,
   "id": "IUA1B-bDHMtW",
   "metadata": {
    "id": "IUA1B-bDHMtW"
   },
   "outputs": [],
   "source": [
    "def half_split(df, min_liked=10, test_frac=0.5, random_state=42):\n",
    "    train = []\n",
    "    test = []\n",
    "\n",
    "    for user_id, group in df.groupby('userId'):\n",
    "        liked = group[group['rating'] >= 4.0]\n",
    "        if len(liked) < min_liked:\n",
    "            continue\n",
    "\n",
    "        test_sample = liked.sample(frac=test_frac, random_state=random_state)\n",
    "        train_sample = liked.drop(test_sample.index)\n",
    "\n",
    "        train.append(train_sample)\n",
    "        test.append(test_sample)\n",
    "\n",
    "    return pd.concat(train), pd.concat(test)\n",
    "\n"
   ]
  },
  {
   "cell_type": "code",
   "execution_count": 51,
   "id": "DxUYeWgfHZ4T",
   "metadata": {
    "id": "DxUYeWgfHZ4T"
   },
   "outputs": [],
   "source": [
    "df_train, df_test = half_split(df_sample)\n"
   ]
  },
  {
   "cell_type": "code",
   "execution_count": 52,
   "id": "2c5b4ad4",
   "metadata": {
    "id": "2c5b4ad4"
   },
   "outputs": [],
   "source": [
    "# Create maps\n",
    "movieId_to_tmdbId = df_train.drop_duplicates('movieId').set_index('movieId')['tmdbId'].to_dict()\n",
    "tmdbId_to_movieId = df_train.drop_duplicates('tmdbId').set_index('tmdbId')['movieId'].to_dict()\n",
    "\n",
    "\n",
    "# Merge genres into extra_values\n",
    "genres = df_train[['tmdbId', 'genres']].drop_duplicates()\n",
    "extra_values = extra_values.merge(genres, on='tmdbId', how='left')\n",
    "\n"
   ]
  },
  {
   "cell_type": "code",
   "execution_count": 53,
   "id": "07c5ab9e",
   "metadata": {},
   "outputs": [
    {
     "data": {
      "text/html": [
       "<div>\n",
       "<style scoped>\n",
       "    .dataframe tbody tr th:only-of-type {\n",
       "        vertical-align: middle;\n",
       "    }\n",
       "\n",
       "    .dataframe tbody tr th {\n",
       "        vertical-align: top;\n",
       "    }\n",
       "\n",
       "    .dataframe thead th {\n",
       "        text-align: right;\n",
       "    }\n",
       "</style>\n",
       "<table border=\"1\" class=\"dataframe\">\n",
       "  <thead>\n",
       "    <tr style=\"text-align: right;\">\n",
       "      <th></th>\n",
       "      <th>tmdbId</th>\n",
       "      <th>director</th>\n",
       "      <th>actor1</th>\n",
       "      <th>actor2</th>\n",
       "      <th>actor3</th>\n",
       "      <th>description</th>\n",
       "      <th>poster_url</th>\n",
       "      <th>title</th>\n",
       "      <th>genres</th>\n",
       "    </tr>\n",
       "  </thead>\n",
       "  <tbody>\n",
       "    <tr>\n",
       "      <th>0</th>\n",
       "      <td>14070</td>\n",
       "      <td>A.R. Murugadoss</td>\n",
       "      <td>Aamir Khan</td>\n",
       "      <td>Asin Thottumkal</td>\n",
       "      <td>Jiah Khan</td>\n",
       "      <td>A man suffering from anterograde amnesia as a ...</td>\n",
       "      <td>https://image.tmdb.org/t/p/w500/cPLzHxPFRjzNvo...</td>\n",
       "      <td>Ghajini</td>\n",
       "      <td>Action|Romance|Thriller</td>\n",
       "    </tr>\n",
       "    <tr>\n",
       "      <th>1</th>\n",
       "      <td>10440</td>\n",
       "      <td>Woody Allen</td>\n",
       "      <td>Woody Allen</td>\n",
       "      <td>Diane Keaton</td>\n",
       "      <td>Jerry Adler</td>\n",
       "      <td>A middle-aged couple suspects foul play when t...</td>\n",
       "      <td>https://image.tmdb.org/t/p/w500/axriUXXcBVZMZT...</td>\n",
       "      <td>Manhattan Murder Mystery</td>\n",
       "      <td>Comedy|Mystery</td>\n",
       "    </tr>\n",
       "    <tr>\n",
       "      <th>2</th>\n",
       "      <td>14164</td>\n",
       "      <td>James Wong</td>\n",
       "      <td>Justin Chatwin</td>\n",
       "      <td>Chow Yun-Fat</td>\n",
       "      <td>Joon Park</td>\n",
       "      <td>On his 18th birthday, Goku receives a mystical...</td>\n",
       "      <td>https://image.tmdb.org/t/p/w500/ztlqrY7VgFIFmt...</td>\n",
       "      <td>Dragonball Evolution</td>\n",
       "      <td>Action|Adventure|Fantasy|Sci-Fi</td>\n",
       "    </tr>\n",
       "    <tr>\n",
       "      <th>3</th>\n",
       "      <td>2114</td>\n",
       "      <td>Hironobu Sakaguchi</td>\n",
       "      <td>Ming-Na Wen</td>\n",
       "      <td>Alec Baldwin</td>\n",
       "      <td>Ving Rhames</td>\n",
       "      <td>Led by a strange dream, scientist Aki Ross str...</td>\n",
       "      <td>https://image.tmdb.org/t/p/w500/phYEy6Am7vRlr9...</td>\n",
       "      <td>Final Fantasy: The Spirits Within</td>\n",
       "      <td>Adventure|Animation|Fantasy|Sci-Fi</td>\n",
       "    </tr>\n",
       "    <tr>\n",
       "      <th>4</th>\n",
       "      <td>41651</td>\n",
       "      <td>Rachel Talalay</td>\n",
       "      <td>Karen Allen</td>\n",
       "      <td>Wil Horneff</td>\n",
       "      <td>Chris Mulkey</td>\n",
       "      <td>After a freak, fatal accident, the soul Karl—a...</td>\n",
       "      <td>https://image.tmdb.org/t/p/w500/lyUZFIQj4CekCt...</td>\n",
       "      <td>Ghost in the Machine</td>\n",
       "      <td>NaN</td>\n",
       "    </tr>\n",
       "    <tr>\n",
       "      <th>...</th>\n",
       "      <td>...</td>\n",
       "      <td>...</td>\n",
       "      <td>...</td>\n",
       "      <td>...</td>\n",
       "      <td>...</td>\n",
       "      <td>...</td>\n",
       "      <td>...</td>\n",
       "      <td>...</td>\n",
       "      <td>...</td>\n",
       "    </tr>\n",
       "    <tr>\n",
       "      <th>8933</th>\n",
       "      <td>298618</td>\n",
       "      <td>Andy Muschietti</td>\n",
       "      <td>Ezra Miller</td>\n",
       "      <td>Sasha Calle</td>\n",
       "      <td>Michael Keaton</td>\n",
       "      <td>When his attempt to save his family inadverten...</td>\n",
       "      <td>https://image.tmdb.org/t/p/w500/rktDFPbfHfUbAr...</td>\n",
       "      <td>The Flash</td>\n",
       "      <td>Action|Adventure|Sci-Fi</td>\n",
       "    </tr>\n",
       "    <tr>\n",
       "      <th>8934</th>\n",
       "      <td>976573</td>\n",
       "      <td>Peter Sohn</td>\n",
       "      <td>Leah Lewis</td>\n",
       "      <td>Mamoudou Athie</td>\n",
       "      <td>Ronnie del Carmen</td>\n",
       "      <td>In a city where fire, water, land and air resi...</td>\n",
       "      <td>https://image.tmdb.org/t/p/w500/4Y1WNkd88JXmGf...</td>\n",
       "      <td>Elemental</td>\n",
       "      <td>Animation|Children|Comedy|Fantasy|Romance</td>\n",
       "    </tr>\n",
       "    <tr>\n",
       "      <th>8935</th>\n",
       "      <td>649609</td>\n",
       "      <td>Chris McKay</td>\n",
       "      <td>Nicholas Hoult</td>\n",
       "      <td>Nicolas Cage</td>\n",
       "      <td>Awkwafina</td>\n",
       "      <td>Having grown sick and tired of his centuries a...</td>\n",
       "      <td>https://image.tmdb.org/t/p/w500/p6yUjhvNGQpFZi...</td>\n",
       "      <td>Renfield</td>\n",
       "      <td>Action|Comedy|Horror</td>\n",
       "    </tr>\n",
       "    <tr>\n",
       "      <th>8936</th>\n",
       "      <td>569094</td>\n",
       "      <td>Kemp Powers</td>\n",
       "      <td>Shameik Moore</td>\n",
       "      <td>Hailee Steinfeld</td>\n",
       "      <td>Brian Tyree Henry</td>\n",
       "      <td>After reuniting with Gwen Stacy, Brooklyn’s fu...</td>\n",
       "      <td>https://image.tmdb.org/t/p/w500/8Vt6mWEReuy4Of...</td>\n",
       "      <td>Spider-Man: Across the Spider-Verse</td>\n",
       "      <td>Action|Adventure|Animation|Sci-Fi</td>\n",
       "    </tr>\n",
       "    <tr>\n",
       "      <th>8937</th>\n",
       "      <td>385687</td>\n",
       "      <td>Louis Leterrier</td>\n",
       "      <td>Vin Diesel</td>\n",
       "      <td>Michelle Rodriguez</td>\n",
       "      <td>Tyrese Gibson</td>\n",
       "      <td>Over many missions and against impossible odds...</td>\n",
       "      <td>https://image.tmdb.org/t/p/w500/fiVW06jE7z9YnO...</td>\n",
       "      <td>Fast X</td>\n",
       "      <td>Action|Crime</td>\n",
       "    </tr>\n",
       "  </tbody>\n",
       "</table>\n",
       "<p>8938 rows × 9 columns</p>\n",
       "</div>"
      ],
      "text/plain": [
       "      tmdbId            director          actor1              actor2  \\\n",
       "0      14070     A.R. Murugadoss      Aamir Khan     Asin Thottumkal   \n",
       "1      10440         Woody Allen     Woody Allen        Diane Keaton   \n",
       "2      14164          James Wong  Justin Chatwin        Chow Yun-Fat   \n",
       "3       2114  Hironobu Sakaguchi     Ming-Na Wen        Alec Baldwin   \n",
       "4      41651      Rachel Talalay     Karen Allen         Wil Horneff   \n",
       "...      ...                 ...             ...                 ...   \n",
       "8933  298618     Andy Muschietti     Ezra Miller         Sasha Calle   \n",
       "8934  976573          Peter Sohn      Leah Lewis      Mamoudou Athie   \n",
       "8935  649609         Chris McKay  Nicholas Hoult        Nicolas Cage   \n",
       "8936  569094         Kemp Powers   Shameik Moore    Hailee Steinfeld   \n",
       "8937  385687     Louis Leterrier      Vin Diesel  Michelle Rodriguez   \n",
       "\n",
       "                 actor3                                        description  \\\n",
       "0             Jiah Khan  A man suffering from anterograde amnesia as a ...   \n",
       "1           Jerry Adler  A middle-aged couple suspects foul play when t...   \n",
       "2             Joon Park  On his 18th birthday, Goku receives a mystical...   \n",
       "3           Ving Rhames  Led by a strange dream, scientist Aki Ross str...   \n",
       "4          Chris Mulkey  After a freak, fatal accident, the soul Karl—a...   \n",
       "...                 ...                                                ...   \n",
       "8933     Michael Keaton  When his attempt to save his family inadverten...   \n",
       "8934  Ronnie del Carmen  In a city where fire, water, land and air resi...   \n",
       "8935          Awkwafina  Having grown sick and tired of his centuries a...   \n",
       "8936  Brian Tyree Henry  After reuniting with Gwen Stacy, Brooklyn’s fu...   \n",
       "8937      Tyrese Gibson  Over many missions and against impossible odds...   \n",
       "\n",
       "                                             poster_url  \\\n",
       "0     https://image.tmdb.org/t/p/w500/cPLzHxPFRjzNvo...   \n",
       "1     https://image.tmdb.org/t/p/w500/axriUXXcBVZMZT...   \n",
       "2     https://image.tmdb.org/t/p/w500/ztlqrY7VgFIFmt...   \n",
       "3     https://image.tmdb.org/t/p/w500/phYEy6Am7vRlr9...   \n",
       "4     https://image.tmdb.org/t/p/w500/lyUZFIQj4CekCt...   \n",
       "...                                                 ...   \n",
       "8933  https://image.tmdb.org/t/p/w500/rktDFPbfHfUbAr...   \n",
       "8934  https://image.tmdb.org/t/p/w500/4Y1WNkd88JXmGf...   \n",
       "8935  https://image.tmdb.org/t/p/w500/p6yUjhvNGQpFZi...   \n",
       "8936  https://image.tmdb.org/t/p/w500/8Vt6mWEReuy4Of...   \n",
       "8937  https://image.tmdb.org/t/p/w500/fiVW06jE7z9YnO...   \n",
       "\n",
       "                                    title  \\\n",
       "0                                 Ghajini   \n",
       "1                Manhattan Murder Mystery   \n",
       "2                    Dragonball Evolution   \n",
       "3       Final Fantasy: The Spirits Within   \n",
       "4                    Ghost in the Machine   \n",
       "...                                   ...   \n",
       "8933                            The Flash   \n",
       "8934                            Elemental   \n",
       "8935                             Renfield   \n",
       "8936  Spider-Man: Across the Spider-Verse   \n",
       "8937                               Fast X   \n",
       "\n",
       "                                         genres  \n",
       "0                       Action|Romance|Thriller  \n",
       "1                                Comedy|Mystery  \n",
       "2               Action|Adventure|Fantasy|Sci-Fi  \n",
       "3            Adventure|Animation|Fantasy|Sci-Fi  \n",
       "4                                           NaN  \n",
       "...                                         ...  \n",
       "8933                    Action|Adventure|Sci-Fi  \n",
       "8934  Animation|Children|Comedy|Fantasy|Romance  \n",
       "8935                       Action|Comedy|Horror  \n",
       "8936          Action|Adventure|Animation|Sci-Fi  \n",
       "8937                               Action|Crime  \n",
       "\n",
       "[8938 rows x 9 columns]"
      ]
     },
     "execution_count": 53,
     "metadata": {},
     "output_type": "execute_result"
    }
   ],
   "source": [
    "extra_values"
   ]
  },
  {
   "cell_type": "code",
   "execution_count": 54,
   "id": "0610b2fe",
   "metadata": {},
   "outputs": [],
   "source": [
    "# Clean genre strings\n",
    "extra_values['genres'] = extra_values['genres'].fillna(\"\").astype(str).str.replace(r'[\\[\\]\\']', '', regex=True)\n",
    "\n",
    "# Merge movieId from tmdbId\n",
    "extra_values['movieId'] = extra_values['tmdbId'].map(tmdbId_to_movieId)"
   ]
  },
  {
   "cell_type": "code",
   "execution_count": 55,
   "id": "UeTYwqhNdvdg",
   "metadata": {
    "id": "UeTYwqhNdvdg"
   },
   "outputs": [],
   "source": [
    "import re\n",
    "import pandas as pd\n",
    "from sklearn.feature_extraction.text import TfidfVectorizer\n",
    "from sklearn.metrics.pairwise import cosine_similarity\n",
    "\n",
    "# --- Cleaning functions ---\n",
    "def clean_description(desc):\n",
    "    desc = str(desc).lower()\n",
    "    desc = re.sub(r\"[^a-z0-9\\s]\", \"\", desc)\n",
    "    desc = re.sub(r\"\\s+\", \" \", desc)\n",
    "    return desc.strip()\n"
   ]
  },
  {
   "cell_type": "code",
   "execution_count": 56,
   "id": "5CJA8uCQgJxl",
   "metadata": {
    "id": "5CJA8uCQgJxl"
   },
   "outputs": [],
   "source": [
    "def clean_title(text):\n",
    "    text = str(text).lower()\n",
    "    text = re.sub(r'[^a-z0-9 ]', '', text)\n",
    "    return text.strip()\n"
   ]
  },
  {
   "cell_type": "code",
   "execution_count": 57,
   "id": "ea1fc7qtgJ3M",
   "metadata": {
    "id": "ea1fc7qtgJ3M"
   },
   "outputs": [],
   "source": [
    "def clean_name(text):\n",
    "    text = str(text).lower()\n",
    "    text = re.sub(r'[^a-z0-9 ]', '', text)\n",
    "    text = re.sub(r'\\s+', ' ', text)\n",
    "    return text.strip()"
   ]
  },
  {
   "cell_type": "code",
   "execution_count": 58,
   "id": "MInDEbLTgSER",
   "metadata": {
    "id": "MInDEbLTgSER"
   },
   "outputs": [],
   "source": [
    "def clean_genres(genres_str):\n",
    "    text = re.sub(r'[\\[\\]\\'\\\"]', '', str(genres_str)).lower()\n",
    "    text = text.replace(',', ' ')\n",
    "    return text.strip()\n",
    "\n"
   ]
  },
  {
   "cell_type": "code",
   "execution_count": 59,
   "id": "yT94-njPgJ6D",
   "metadata": {
    "id": "yT94-njPgJ6D"
   },
   "outputs": [],
   "source": [
    "# --- Apply cleaning ---\n",
    "extra_values['title'] = extra_values['title'].fillna('').apply(clean_title)\n",
    "extra_values['description'] = extra_values['description'].fillna('').apply(clean_description)\n",
    "extra_values['genres'] = extra_values['genres'].fillna('').apply(clean_genres)"
   ]
  },
  {
   "cell_type": "code",
   "execution_count": 60,
   "id": "rSZmx6figeuy",
   "metadata": {
    "id": "rSZmx6figeuy"
   },
   "outputs": [],
   "source": [
    "for col in ['director', 'actor1', 'actor2', 'actor3']:\n",
    "    extra_values[col] = extra_values[col].fillna('').apply(clean_name)"
   ]
  },
  {
   "cell_type": "code",
   "execution_count": 61,
   "id": "9BryFRtwDhif",
   "metadata": {
    "id": "9BryFRtwDhif"
   },
   "outputs": [],
   "source": [
    "# Ensure you’ve already run this function\n",
    "def create_text_soup(row):\n",
    "    return ' '.join([\n",
    "        (row['title'] + ' ') * 3,\n",
    "        (row['genres'] + ' ') * 3,\n",
    "        (row['director'] + ' ') * 2,\n",
    "        row['description'],\n",
    "        (row['actor1'] + ' ') * 2,\n",
    "        row['actor2'],\n",
    "        row['actor3']\n",
    "    ])\n",
    "\n",
    "# Filter extra_values for training set movies\n",
    "shared_tmdb_ids = df_train['tmdbId'].unique()\n",
    "extra_values_filtered = extra_values[extra_values['tmdbId'].isin(shared_tmdb_ids)].drop_duplicates('tmdbId').reset_index(drop=True)\n",
    "\n",
    "# Create 'text_soup' column\n",
    "extra_values_filtered['text_soup'] = extra_values_filtered.apply(create_text_soup, axis=1)\n",
    "\n",
    "# Initialize and fit TF-IDF\n",
    "from sklearn.feature_extraction.text import TfidfVectorizer\n",
    "from sklearn.metrics.pairwise import cosine_similarity\n",
    "\n",
    "tfidf_vectorizer = TfidfVectorizer(\n",
    "    ngram_range=(1, 2),\n",
    "    max_features=10000,\n",
    "    stop_words='english',\n",
    "    strip_accents='unicode'\n",
    ")\n",
    "\n",
    "tfidf_matrix = tfidf_vectorizer.fit_transform(extra_values_filtered['text_soup'])\n",
    "\n",
    "# Create index: tmdbId -> row index in tfidf_matrix\n",
    "tfidf_index = pd.Series(extra_values_filtered.index, index=extra_values_filtered['tmdbId']).drop_duplicates()\n",
    "\n"
   ]
  },
  {
   "cell_type": "code",
   "execution_count": 62,
   "id": "bcc65796",
   "metadata": {
    "id": "bcc65796"
   },
   "outputs": [],
   "source": [
    "def get_tfidf_recommendations(tmdb_id, top_n=10):\n",
    "    if tmdb_id not in tfidf_index:\n",
    "        return []\n",
    "\n",
    "    idx = tfidf_index[tmdb_id]\n",
    "    query_vec = tfidf_matrix[idx]\n",
    "    similarity = cosine_similarity(query_vec, tfidf_matrix).flatten()\n",
    "    similar_indices = similarity.argsort()[::-1][1:top_n+1]\n",
    "\n",
    "    return extra_values_filtered.iloc[similar_indices][['movieId', 'tmdbId', 'title', 'genres', 'director']]\n"
   ]
  },
  {
   "cell_type": "code",
   "execution_count": 63,
   "id": "TPQu1sDLWS6e",
   "metadata": {
    "colab": {
     "base_uri": "https://localhost:8080/"
    },
    "id": "TPQu1sDLWS6e",
    "outputId": "1837a32c-ac5e-49ac-ee0f-4ba1312dbc66"
   },
   "outputs": [
    {
     "name": "stdout",
     "output_type": "stream",
     "text": [
      "       movieId  tmdbId                              title  \\\n",
      "1405    3114.0     863                        toy story 2   \n",
      "6074   78499.0   10193                        toy story 3   \n",
      "7161  201588.0  301528                        toy story 4   \n",
      "6724  115875.0   77887  toy story toons hawaiian vacation   \n",
      "6426  120474.0  256835         toy story that time forgot   \n",
      "5876  106022.0  213121                toy story of terror   \n",
      "7534  166461.0  277834                              moana   \n",
      "7703  213207.0  508439                             onward   \n",
      "466     2294.0    8916                               antz   \n",
      "4577  114552.0  170687                      boxtrolls the   \n",
      "\n",
      "                                                genres        director  \n",
      "1405       adventure|animation|children|comedy|fantasy   john lasseter  \n",
      "6074  adventure|animation|children|comedy|fantasy|imax     lee unkrich  \n",
      "7161               adventure|animation|children|comedy     josh cooley  \n",
      "6724       adventure|animation|children|comedy|fantasy   gary rydstrom  \n",
      "6426                                animation|children   steve purcell  \n",
      "5876                         animation|children|comedy   angus maclane  \n",
      "7534       adventure|animation|children|comedy|fantasy    ron clements  \n",
      "7703       adventure|animation|children|comedy|fantasy     dan scanlon  \n",
      "466        adventure|animation|children|comedy|fantasy    eric darnell  \n",
      "4577       adventure|animation|children|comedy|fantasy  graham annable  \n"
     ]
    }
   ],
   "source": [
    "# --- Test: Toy Story ---\n",
    "toy_story_tmdbid = 862\n",
    "recommendations = get_tfidf_recommendations(toy_story_tmdbid, top_n=10)\n",
    "print(recommendations)"
   ]
  },
  {
   "cell_type": "code",
   "execution_count": 64,
   "id": "aWHz024eQa3k",
   "metadata": {
    "id": "aWHz024eQa3k"
   },
   "outputs": [],
   "source": [
    "import numpy as np\n",
    "import scipy.sparse as sp\n",
    "from scipy.sparse import csr_matrix\n",
    "from sklearn.preprocessing import MinMaxScaler\n",
    "\n",
    "def train_ease(df, lambda_=10.0, user_map=None, item_map=None, topk=100):\n",
    "    if user_map is None:\n",
    "        user_map = {uid: idx for idx, uid in enumerate(df['userId'].unique())}\n",
    "    if item_map is None:\n",
    "        item_map = {mid: idx for idx, mid in enumerate(df['movieId'].unique())}\n",
    "\n",
    "    idx2item = {v: k for k, v in item_map.items()}\n",
    "\n",
    "    # --- Popularity penalty weights ---\n",
    "    item_popularity = df['movieId'].value_counts()\n",
    "    item_weights = 1 / np.sqrt(item_popularity)\n",
    "    df['ease_weight'] = df['movieId'].map(item_weights)\n",
    "\n",
    "    rows = df['userId'].map(user_map)\n",
    "    cols = df['movieId'].map(item_map)\n",
    "    data = df['ease_weight'].values\n",
    "\n",
    "    X = sp.csr_matrix((data, (rows, cols)), shape=(len(user_map), len(item_map)))\n",
    "\n",
    "    G = X.T @ X\n",
    "    G = G.toarray()\n",
    "    diag = np.diag_indices_from(G)\n",
    "    G[diag] += lambda_\n",
    "\n",
    "    P = np.linalg.inv(G)\n",
    "    B = P / (-np.diag(P)[:, None])\n",
    "    B[diag] = 0\n",
    "\n",
    "    # --- Top-k pruning ---\n",
    "    if topk is not None:\n",
    "        for i in range(B.shape[0]):\n",
    "            row = B[i]\n",
    "            if np.count_nonzero(row) > topk:\n",
    "                top_k_idx = np.argpartition(row, -topk)[-topk:]\n",
    "                mask = np.ones_like(row, dtype=bool)\n",
    "                mask[top_k_idx] = False\n",
    "                B[i, mask] = 0.0\n",
    "        B = csr_matrix(B)\n",
    "\n",
    "    return B, user_map, item_map, idx2item\n",
    "\n",
    "\n",
    "\n",
    "# --- Train and score ---\n",
    "ease_B, ease_user_map, ease_item_map, ease_idx2item = train_ease(df_train, lambda_=1000.0, topk=100)\n",
    "\n",
    "# Build interaction matrix\n",
    "rows = df_train['userId'].map(ease_user_map)\n",
    "cols = df_train['movieId'].map(ease_item_map)\n",
    "data = df_train['ease_weight'].values\n",
    "X_train = sp.csr_matrix((data, (rows, cols)), shape=(len(ease_user_map), len(ease_item_map)))\n",
    "\n",
    "# Predict\n",
    "ease_all_scores = X_train @ ease_B\n",
    "\n",
    "# Convert to dense for MinMaxScaler\n",
    "if sp.issparse(ease_all_scores):\n",
    "    ease_all_scores = ease_all_scores.toarray()\n",
    "\n",
    "# Row-wise normalization\n",
    "scaler = MinMaxScaler()\n",
    "ease_all_scores = scaler.fit_transform(ease_all_scores)\n",
    "\n"
   ]
  },
  {
   "cell_type": "code",
   "execution_count": 65,
   "id": "vsBir8G1IEkE",
   "metadata": {
    "id": "vsBir8G1IEkE"
   },
   "outputs": [],
   "source": [
    "def get_hybrid_recommendations(user_id, top_n=10, weight_content=0.6):\n",
    "    scores = {}\n",
    "\n",
    "    # --- EASE-based scores ---\n",
    "    if user_id in ease_user_map:\n",
    "        u_idx = ease_user_map[user_id]\n",
    "        ease_scores = ease_all_scores[u_idx].copy()  # precomputed + normalized\n",
    "\n",
    "        # Zero out seen items\n",
    "        seen_movies = df_train[df_train['userId'] == user_id]['movieId']\n",
    "        for mid in seen_movies:\n",
    "            if mid in ease_item_map:\n",
    "                ease_scores[ease_item_map[mid]] = 0.0\n",
    "\n",
    "        for idx, score in enumerate(ease_scores):\n",
    "            movie_id = ease_idx2item[idx]\n",
    "            tmdb_id = movieId_to_tmdbId.get(movie_id)\n",
    "            if tmdb_id:\n",
    "                scores[tmdb_id] = (1 - weight_content) * score\n",
    "\n",
    "    # --- TF-IDF content-based scores ---\n",
    "    liked_tmdb_ids = df_train[(df_train['userId'] == user_id) & (df_train['rating'] >= 4.0)]['tmdbId']\n",
    "    liked_indices = [tfidf_index.get(tmdb_id) for tmdb_id in liked_tmdb_ids if tmdb_id in tfidf_index]\n",
    "\n",
    "    tfidf_sim = np.zeros(tfidf_matrix.shape[0])\n",
    "\n",
    "    for idx in liked_indices:\n",
    "        if idx is not None:\n",
    "            tfidf_sim += cosine_similarity(tfidf_matrix[idx], tfidf_matrix).flatten()\n",
    "\n",
    "    if liked_indices:\n",
    "        tfidf_sim /= len(liked_indices)\n",
    "        for idx, score in enumerate(tfidf_sim):\n",
    "            tmdb_id = extra_values_filtered.iloc[idx]['tmdbId']\n",
    "            scores[tmdb_id] = scores.get(tmdb_id, 0) + weight_content * score\n",
    "\n",
    "    # --- Top-N ---\n",
    "    ranked = sorted(scores.items(), key=lambda x: x[1], reverse=True)\n",
    "    top_tmdb = [tmdb for tmdb, _ in ranked[:top_n]]\n",
    "\n",
    "    return top_tmdb\n",
    "\n"
   ]
  },
  {
   "cell_type": "code",
   "execution_count": 66,
   "id": "rMXkRfHNIEmw",
   "metadata": {
    "colab": {
     "base_uri": "https://localhost:8080/"
    },
    "id": "rMXkRfHNIEmw",
    "outputId": "a7f572ad-228b-437c-8e22-e892f18578c9"
   },
   "outputs": [
    {
     "name": "stdout",
     "output_type": "stream",
     "text": [
      "Hybrid Recommendations for test user:\n",
      "[293660, 22538, 9352, 16320, 2649, 49538, 118340, 7512, 2179, 19908]\n"
     ]
    }
   ],
   "source": [
    "test_user = df_train['userId'].iloc[1]\n",
    "liked_movies = df_train[(df_train['userId'] == test_user) & (df_train['rating'] >= 4)]\n",
    "assert not liked_movies.empty\n",
    "\n",
    "test_tmdb_id = liked_movies['tmdbId'].iloc[1]\n",
    "recs = get_hybrid_recommendations(user_id=test_user, top_n=10, weight_content=0.6)\n",
    "print(\"Hybrid Recommendations for test user:\")\n",
    "print(recs)\n",
    "\n"
   ]
  },
  {
   "cell_type": "code",
   "execution_count": 67,
   "id": "x-pxEotjKz0B",
   "metadata": {
    "id": "x-pxEotjKz0B"
   },
   "outputs": [],
   "source": [
    "# Subset 100 unique users\n",
    "subset_user_ids = df_test['userId'].drop_duplicates().sample(n=100, random_state=42)\n",
    "df_test_subset = df_test[df_test['userId'].isin(subset_user_ids)]"
   ]
  },
  {
   "cell_type": "code",
   "execution_count": 68,
   "id": "Nij8lLJVM2nP",
   "metadata": {
    "id": "Nij8lLJVM2nP"
   },
   "outputs": [],
   "source": [
    "# Create ground truth: user → set of test tmdbIds\n",
    "user_test_items = df_test_subset.groupby('userId')['tmdbId'].apply(set).to_dict()"
   ]
  },
  {
   "cell_type": "code",
   "execution_count": 69,
   "id": "UFXac6oNM4pg",
   "metadata": {
    "id": "UFXac6oNM4pg"
   },
   "outputs": [],
   "source": [
    "def precision_at_k(recommended_ids, relevant_ids, k=10):\n",
    "    hits = len(set(recommended_ids[:k]) & relevant_ids)\n",
    "    return hits / k"
   ]
  },
  {
   "cell_type": "code",
   "execution_count": 70,
   "id": "BeQXpdbeM6-W",
   "metadata": {
    "id": "BeQXpdbeM6-W"
   },
   "outputs": [],
   "source": [
    "weights = [round(w, 2) for w in np.linspace(0.0, 1.0, 11)]\n",
    "results = []"
   ]
  },
  {
   "cell_type": "code",
   "execution_count": 71,
   "id": "GWqHV6qsDZmj",
   "metadata": {
    "colab": {
     "base_uri": "https://localhost:8080/"
    },
    "id": "GWqHV6qsDZmj",
    "outputId": "bf4e58fa-be9e-42d5-8688-bfea45b707e7",
    "scrolled": false
   },
   "outputs": [
    {
     "name": "stdout",
     "output_type": "stream",
     "text": [
      "\n",
      "Evaluating weight_content = 0.00\n"
     ]
    },
    {
     "name": "stderr",
     "output_type": "stream",
     "text": [
      "100%|██████████| 100/100 [00:52<00:00,  1.90it/s]\n"
     ]
    },
    {
     "name": "stdout",
     "output_type": "stream",
     "text": [
      "Weight 0.00 → Precision@10: 0.1640\n",
      "\n",
      "Evaluating weight_content = 0.10\n"
     ]
    },
    {
     "name": "stderr",
     "output_type": "stream",
     "text": [
      "100%|██████████| 100/100 [00:52<00:00,  1.89it/s]\n"
     ]
    },
    {
     "name": "stdout",
     "output_type": "stream",
     "text": [
      "Weight 0.10 → Precision@10: 0.1630\n",
      "\n",
      "Evaluating weight_content = 0.20\n"
     ]
    },
    {
     "name": "stderr",
     "output_type": "stream",
     "text": [
      "100%|██████████| 100/100 [00:52<00:00,  1.91it/s]\n"
     ]
    },
    {
     "name": "stdout",
     "output_type": "stream",
     "text": [
      "Weight 0.20 → Precision@10: 0.1640\n",
      "\n",
      "Evaluating weight_content = 0.30\n"
     ]
    },
    {
     "name": "stderr",
     "output_type": "stream",
     "text": [
      "100%|██████████| 100/100 [00:52<00:00,  1.90it/s]\n"
     ]
    },
    {
     "name": "stdout",
     "output_type": "stream",
     "text": [
      "Weight 0.30 → Precision@10: 0.1660\n",
      "\n",
      "Evaluating weight_content = 0.40\n"
     ]
    },
    {
     "name": "stderr",
     "output_type": "stream",
     "text": [
      "100%|██████████| 100/100 [00:52<00:00,  1.90it/s]\n"
     ]
    },
    {
     "name": "stdout",
     "output_type": "stream",
     "text": [
      "Weight 0.40 → Precision@10: 0.1630\n",
      "\n",
      "Evaluating weight_content = 0.50\n"
     ]
    },
    {
     "name": "stderr",
     "output_type": "stream",
     "text": [
      "100%|██████████| 100/100 [00:52<00:00,  1.90it/s]\n"
     ]
    },
    {
     "name": "stdout",
     "output_type": "stream",
     "text": [
      "Weight 0.50 → Precision@10: 0.1690\n",
      "\n",
      "Evaluating weight_content = 0.60\n"
     ]
    },
    {
     "name": "stderr",
     "output_type": "stream",
     "text": [
      "100%|██████████| 100/100 [00:52<00:00,  1.90it/s]\n"
     ]
    },
    {
     "name": "stdout",
     "output_type": "stream",
     "text": [
      "Weight 0.60 → Precision@10: 0.1750\n",
      "\n",
      "Evaluating weight_content = 0.70\n"
     ]
    },
    {
     "name": "stderr",
     "output_type": "stream",
     "text": [
      "100%|██████████| 100/100 [00:52<00:00,  1.90it/s]\n"
     ]
    },
    {
     "name": "stdout",
     "output_type": "stream",
     "text": [
      "Weight 0.70 → Precision@10: 0.1720\n",
      "\n",
      "Evaluating weight_content = 0.80\n"
     ]
    },
    {
     "name": "stderr",
     "output_type": "stream",
     "text": [
      "100%|██████████| 100/100 [00:52<00:00,  1.90it/s]\n"
     ]
    },
    {
     "name": "stdout",
     "output_type": "stream",
     "text": [
      "Weight 0.80 → Precision@10: 0.1710\n",
      "\n",
      "Evaluating weight_content = 0.90\n"
     ]
    },
    {
     "name": "stderr",
     "output_type": "stream",
     "text": [
      "100%|██████████| 100/100 [00:52<00:00,  1.91it/s]\n"
     ]
    },
    {
     "name": "stdout",
     "output_type": "stream",
     "text": [
      "Weight 0.90 → Precision@10: 0.1450\n",
      "\n",
      "Evaluating weight_content = 1.00\n"
     ]
    },
    {
     "name": "stderr",
     "output_type": "stream",
     "text": [
      "100%|██████████| 100/100 [00:52<00:00,  1.90it/s]"
     ]
    },
    {
     "name": "stdout",
     "output_type": "stream",
     "text": [
      "Weight 1.00 → Precision@10: 0.0220\n"
     ]
    },
    {
     "name": "stderr",
     "output_type": "stream",
     "text": [
      "\n"
     ]
    }
   ],
   "source": [
    "for w in weights:\n",
    "    print(f\"\\nEvaluating weight_content = {w:.2f}\")\n",
    "    precision_scores = []\n",
    "\n",
    "    for user_id, relevant_tmdb_ids in tqdm(user_test_items.items()):\n",
    "        rec_ids = get_hybrid_recommendations(user_id, top_n=10, weight_content=w)\n",
    "        score = precision_at_k(rec_ids, relevant_tmdb_ids, k=10)\n",
    "        precision_scores.append(score)\n",
    "\n",
    "    avg_precision = sum(precision_scores) / len(precision_scores)\n",
    "    print(f\"Weight {w:.2f} → Precision@10: {avg_precision:.4f}\")\n",
    "    results.append((w, avg_precision))"
   ]
  },
  {
   "cell_type": "code",
   "execution_count": 72,
   "id": "d31J5GgwGUqz",
   "metadata": {
    "id": "d31J5GgwGUqz"
   },
   "outputs": [],
   "source": [
    "from collections import defaultdict\n",
    "\n",
    "def evaluate_precision_at_k(B, X_train, df_test, user_map, item_map, idx2item, k=10):\n",
    "    test_user_items = defaultdict(set)\n",
    "    for _, row in df_test.iterrows():\n",
    "        uid = user_map.get(row['userId'])\n",
    "        iid = item_map.get(row['movieId'])\n",
    "        if uid is not None and iid is not None:\n",
    "            test_user_items[uid].add(iid)\n",
    "\n",
    "    scores = X_train @ B  # (users x items), dense\n",
    "\n",
    "    precision_scores = []\n",
    "    for user in test_user_items:\n",
    "        user_scores = scores[user].ravel()  # removed .toarray()\n",
    "        user_train_items = set(X_train[user].indices)\n",
    "        user_scores[list(user_train_items)] = -np.inf  # mask train items\n",
    "\n",
    "        top_k_items = np.argsort(-user_scores)[:k]\n",
    "        hits = len(set(top_k_items) & test_user_items[user])\n",
    "        precision_scores.append(hits / k)\n",
    "\n",
    "    return np.mean(precision_scores)\n"
   ]
  },
  {
   "cell_type": "code",
   "execution_count": 74,
   "id": "tgMT45UYiKfY",
   "metadata": {
    "id": "tgMT45UYiKfY"
   },
   "outputs": [],
   "source": [
    "def train_and_score_ease(df_train, df_test_subset, lambda_, topk, weighting='sqrt'):\n",
    "    from sklearn.preprocessing import MinMaxScaler\n",
    "\n",
    "    # --- Build interaction matrix ---\n",
    "    user_map = {uid: idx for idx, uid in enumerate(df_train['userId'].unique())}\n",
    "    item_map = {mid: idx for idx, mid in enumerate(df_train['movieId'].unique())}\n",
    "    idx2item = {v: k for k, v in item_map.items()}\n",
    "\n",
    "    item_popularity = df_train['movieId'].value_counts()\n",
    "\n",
    "    # Apply weighting strategy\n",
    "    if weighting == 'sqrt':\n",
    "        item_weights = 1 / np.sqrt(item_popularity)\n",
    "    elif weighting == 'log':\n",
    "        item_weights = 1 / np.log1p(item_popularity)\n",
    "    elif weighting == 'raw':\n",
    "        item_weights = 1 / item_popularity\n",
    "    elif weighting == 'none':\n",
    "        item_weights = pd.Series(1.0, index=item_popularity.index)\n",
    "    else:\n",
    "        raise ValueError(\"Unknown weighting scheme\")\n",
    "\n",
    "    df_train['ease_weight'] = df_train['movieId'].map(item_weights)\n",
    "\n",
    "    rows = df_train['userId'].map(user_map)\n",
    "    cols = df_train['movieId'].map(item_map)\n",
    "    data = df_train['ease_weight'].values\n",
    "\n",
    "    X = sp.csr_matrix((data, (rows, cols)), shape=(len(user_map), len(item_map)))\n",
    "\n",
    "    G = X.T @ X\n",
    "    G = G.toarray()\n",
    "    diag = np.diag_indices_from(G)\n",
    "    G[diag] += lambda_\n",
    "\n",
    "    P = np.linalg.inv(G)\n",
    "    B = P / (-np.diag(P)[:, None])\n",
    "    B[diag] = 0\n",
    "\n",
    "    # --- Prune ---\n",
    "    if topk is not None:\n",
    "        for i in range(B.shape[0]):\n",
    "            row = B[i]\n",
    "            if np.count_nonzero(row) > topk:\n",
    "                top_k_idx = np.argpartition(row, -topk)[-topk:]\n",
    "                mask = np.ones_like(row, dtype=bool)\n",
    "                mask[top_k_idx] = False\n",
    "                B[i, mask] = 0.0\n",
    "        B = csr_matrix(B)\n",
    "\n",
    "    # Predict\n",
    "    ease_all_scores = X @ B\n",
    "    if sp.issparse(ease_all_scores):\n",
    "        ease_all_scores = ease_all_scores.toarray()\n",
    "\n",
    "    # Normalize\n",
    "    scaler = MinMaxScaler()\n",
    "    ease_all_scores = scaler.fit_transform(ease_all_scores)\n",
    "\n",
    "    # Build ground truth\n",
    "    user_test_items = df_test_subset.groupby('userId')['tmdbId'].apply(set).to_dict()\n",
    "\n",
    "    def recommend(user_id, top_n=10):\n",
    "        if user_id not in user_map:\n",
    "            return []\n",
    "\n",
    "        u_idx = user_map[user_id]\n",
    "        scores = ease_all_scores[u_idx].copy()\n",
    "\n",
    "        seen = df_train[df_train['userId'] == user_id]['movieId']\n",
    "        for mid in seen:\n",
    "            if mid in item_map:\n",
    "                scores[item_map[mid]] = 0.0\n",
    "\n",
    "        ranked = np.argsort(scores)[::-1]\n",
    "        top_movie_ids = [idx2item[i] for i in ranked[:top_n]]\n",
    "        top_tmdb_ids = [movieId_to_tmdbId[mid] for mid in top_movie_ids if mid in movieId_to_tmdbId]\n",
    "        return top_tmdb_ids[:top_n]\n",
    "\n",
    "    # Evaluate\n",
    "    precision_scores = []\n",
    "    for user_id, relevant_tmdb in user_test_items.items():\n",
    "        recs = recommend(user_id)\n",
    "        hits = len(set(recs) & relevant_tmdb)\n",
    "        precision_scores.append(hits / 10)\n",
    "\n",
    "    return np.mean(precision_scores)\n"
   ]
  },
  {
   "cell_type": "code",
   "execution_count": 75,
   "id": "c7b24d29",
   "metadata": {},
   "outputs": [
    {
     "name": "stdout",
     "output_type": "stream",
     "text": [
      "λ=10, topk=50, weighting=sqrt\n",
      " → Precision@10: 0.1310\n",
      "λ=10, topk=50, weighting=log\n",
      " → Precision@10: 0.1680\n",
      "λ=10, topk=50, weighting=raw\n",
      " → Precision@10: 0.0220\n",
      "λ=10, topk=50, weighting=none\n",
      " → Precision@10: 0.1000\n",
      "λ=10, topk=100, weighting=sqrt\n",
      " → Precision@10: 0.1780\n",
      "λ=10, topk=100, weighting=log\n",
      " → Precision@10: 0.1500\n",
      "λ=10, topk=100, weighting=raw\n",
      " → Precision@10: 0.0230\n",
      "λ=10, topk=100, weighting=none\n",
      " → Precision@10: 0.1050\n",
      "λ=10, topk=None, weighting=sqrt\n",
      " → Precision@10: 0.1470\n",
      "λ=10, topk=None, weighting=log\n",
      " → Precision@10: 0.1640\n",
      "λ=10, topk=None, weighting=raw\n",
      " → Precision@10: 0.0540\n",
      "λ=10, topk=None, weighting=none\n",
      " → Precision@10: 0.0850\n",
      "λ=100, topk=50, weighting=sqrt\n",
      " → Precision@10: 0.1510\n",
      "λ=100, topk=50, weighting=log\n",
      " → Precision@10: 0.1570\n",
      "λ=100, topk=50, weighting=raw\n",
      " → Precision@10: 0.0190\n",
      "λ=100, topk=50, weighting=none\n",
      " → Precision@10: 0.1160\n",
      "λ=100, topk=100, weighting=sqrt\n",
      " → Precision@10: 0.1670\n",
      "λ=100, topk=100, weighting=log\n",
      " → Precision@10: 0.1520\n",
      "λ=100, topk=100, weighting=raw\n",
      " → Precision@10: 0.0230\n",
      "λ=100, topk=100, weighting=none\n",
      " → Precision@10: 0.1170\n",
      "λ=100, topk=None, weighting=sqrt\n",
      " → Precision@10: 0.1320\n",
      "λ=100, topk=None, weighting=log\n",
      " → Precision@10: 0.1620\n",
      "λ=100, topk=None, weighting=raw\n",
      " → Precision@10: 0.0670\n",
      "λ=100, topk=None, weighting=none\n",
      " → Precision@10: 0.1460\n",
      "λ=1000, topk=50, weighting=sqrt\n",
      " → Precision@10: 0.1670\n",
      "λ=1000, topk=50, weighting=log\n",
      " → Precision@10: 0.1460\n",
      "λ=1000, topk=50, weighting=raw\n",
      " → Precision@10: 0.0190\n",
      "λ=1000, topk=50, weighting=none\n",
      " → Precision@10: 0.0990\n",
      "λ=1000, topk=100, weighting=sqrt\n",
      " → Precision@10: 0.1640\n",
      "λ=1000, topk=100, weighting=log\n",
      " → Precision@10: 0.1470\n",
      "λ=1000, topk=100, weighting=raw\n",
      " → Precision@10: 0.0230\n",
      "λ=1000, topk=100, weighting=none\n",
      " → Precision@10: 0.1340\n",
      "λ=1000, topk=None, weighting=sqrt\n",
      " → Precision@10: 0.1150\n",
      "λ=1000, topk=None, weighting=log\n",
      " → Precision@10: 0.1350\n",
      "λ=1000, topk=None, weighting=raw\n",
      " → Precision@10: 0.0690\n",
      "λ=1000, topk=None, weighting=none\n",
      " → Precision@10: 0.1760\n",
      "λ=3000, topk=50, weighting=sqrt\n",
      " → Precision@10: 0.1680\n",
      "λ=3000, topk=50, weighting=log\n",
      " → Precision@10: 0.1430\n",
      "λ=3000, topk=50, weighting=raw\n",
      " → Precision@10: 0.0190\n",
      "λ=3000, topk=50, weighting=none\n",
      " → Precision@10: 0.1090\n",
      "λ=3000, topk=100, weighting=sqrt\n",
      " → Precision@10: 0.1620\n",
      "λ=3000, topk=100, weighting=log\n",
      " → Precision@10: 0.1410\n",
      "λ=3000, topk=100, weighting=raw\n",
      " → Precision@10: 0.0230\n",
      "λ=3000, topk=100, weighting=none\n",
      " → Precision@10: 0.1220\n",
      "λ=3000, topk=None, weighting=sqrt\n",
      " → Precision@10: 0.1190\n",
      "λ=3000, topk=None, weighting=log\n",
      " → Precision@10: 0.1320\n",
      "λ=3000, topk=None, weighting=raw\n",
      " → Precision@10: 0.0690\n",
      "λ=3000, topk=None, weighting=none\n",
      " → Precision@10: 0.1690\n"
     ]
    }
   ],
   "source": [
    "from tqdm import tqdm\n",
    "\n",
    "lambda_values = [10, 100, 1000, 3000]\n",
    "topk_values = [50, 100, None]\n",
    "weightings = ['sqrt', 'log', 'raw', 'none']\n",
    "\n",
    "results = []\n",
    "\n",
    "for lmbda in lambda_values:\n",
    "    for topk in topk_values:\n",
    "        for wgt in weightings:\n",
    "            print(f\"λ={lmbda}, topk={topk}, weighting={wgt}\")\n",
    "            score = train_and_score_ease(df_train, df_test_subset, lambda_=lmbda, topk=topk, weighting=wgt)\n",
    "            results.append((lmbda, topk, wgt, score))\n",
    "            print(f\" → Precision@10: {score:.4f}\")\n"
   ]
  },
  {
   "cell_type": "code",
   "execution_count": null,
   "id": "f74509fb",
   "metadata": {},
   "outputs": [],
   "source": []
  },
  {
   "cell_type": "code",
   "execution_count": null,
   "id": "a82d439b",
   "metadata": {},
   "outputs": [],
   "source": []
  },
  {
   "cell_type": "code",
   "execution_count": null,
   "id": "839ad4f1",
   "metadata": {},
   "outputs": [],
   "source": []
  }
 ],
 "metadata": {
  "accelerator": "GPU",
  "colab": {
   "gpuType": "T4",
   "provenance": []
  },
  "kernelspec": {
   "display_name": "Python 3 (ipykernel)",
   "language": "python",
   "name": "python3"
  },
  "language_info": {
   "codemirror_mode": {
    "name": "ipython",
    "version": 3
   },
   "file_extension": ".py",
   "mimetype": "text/x-python",
   "name": "python",
   "nbconvert_exporter": "python",
   "pygments_lexer": "ipython3",
   "version": "3.11.5"
  }
 },
 "nbformat": 4,
 "nbformat_minor": 5
}
