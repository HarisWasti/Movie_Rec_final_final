{
 "cells": [
  {
   "cell_type": "code",
   "execution_count": 1,
   "id": "0cf54113",
   "metadata": {},
   "outputs": [],
   "source": [
    "import os\n",
    "import pandas as pd\n",
    "import numpy as np\n",
    "import re\n",
    "import scipy.sparse as sp\n",
    "from scipy.sparse import csr_matrix\n",
    "from sklearn.feature_extraction.text import TfidfVectorizer\n",
    "from sklearn.metrics.pairwise import cosine_similarity\n",
    "from sklearn.preprocessing import MinMaxScaler\n"
   ]
  },
  {
   "cell_type": "code",
   "execution_count": 2,
   "id": "dfaaa057",
   "metadata": {},
   "outputs": [],
   "source": [
    "streamlit_dir = \"C:\\\\Users\\\\haris\\\\OneDrive\\\\Desktop\\\\rec_streamlit\"\n",
    "os.makedirs(streamlit_dir, exist_ok=True)\n",
    "data_dir = os.path.join(streamlit_dir, \"data\")\n",
    "os.makedirs(data_dir, exist_ok=True)"
   ]
  },
  {
   "cell_type": "code",
   "execution_count": 3,
   "id": "151ffeb4",
   "metadata": {},
   "outputs": [],
   "source": [
    "df_sample = pd.read_csv(\"df_sample.csv\")\n",
    "extra_values = pd.read_csv(\"extra_values.csv\")"
   ]
  },
  {
   "cell_type": "code",
   "execution_count": 4,
   "id": "bbb820bb",
   "metadata": {},
   "outputs": [],
   "source": [
    "top_movies = df_sample['movieId'].value_counts().head(2000).index\n",
    "df_small = df_sample[df_sample['movieId'].isin(top_movies)].copy()"
   ]
  },
  {
   "cell_type": "code",
   "execution_count": 5,
   "id": "50381388",
   "metadata": {},
   "outputs": [],
   "source": [
    "valid_tmdb_ids = set(extra_values['tmdbId'])\n",
    "df_small = df_small[df_small['tmdbId'].isin(valid_tmdb_ids)].copy()\n",
    "df_small['tmdbId'] = df_small['tmdbId'].astype(int)\n",
    "extra_values['tmdbId'] = extra_values['tmdbId'].astype(int)\n",
    "extra_values_small = extra_values.copy()"
   ]
  },
  {
   "cell_type": "code",
   "execution_count": 6,
   "id": "3e810e57",
   "metadata": {},
   "outputs": [],
   "source": [
    "df_small.to_csv(os.path.join(streamlit_dir, \"df_small.csv\"), index=False)\n",
    "extra_values_small.to_csv(os.path.join(streamlit_dir, \"extra_values_small.csv\"), index=False)"
   ]
  },
  {
   "cell_type": "code",
   "execution_count": 7,
   "id": "8bae867a",
   "metadata": {},
   "outputs": [],
   "source": [
    "df_small = pd.read_csv(os.path.join(streamlit_dir, \"df_small.csv\"))\n",
    "extra_values_small = pd.read_csv(os.path.join(streamlit_dir, \"extra_values_small.csv\"))"
   ]
  },
  {
   "cell_type": "code",
   "execution_count": 8,
   "id": "c7715b6b",
   "metadata": {},
   "outputs": [],
   "source": [
    "movieId_to_tmdbId = df_small.drop_duplicates('movieId').set_index('movieId')['tmdbId'].to_dict()\n",
    "tmdbId_to_movieId = df_small.drop_duplicates('tmdbId').set_index('tmdbId')['movieId'].to_dict()"
   ]
  },
  {
   "cell_type": "code",
   "execution_count": 9,
   "id": "453cf1cd",
   "metadata": {},
   "outputs": [],
   "source": [
    "genres = df_small[['tmdbId', 'genres']].drop_duplicates()\n",
    "extra_values_small = extra_values_small.merge(genres, on='tmdbId', how='left')\n",
    "extra_values_small['genres'] = extra_values_small['genres'].fillna(\"\").astype(str).str.replace(r'[\\[\\]\\']', '', regex=True)\n",
    "extra_values_small['movieId'] = extra_values_small['tmdbId'].map(tmdbId_to_movieId)"
   ]
  },
  {
   "cell_type": "code",
   "execution_count": 10,
   "id": "9e2f134c",
   "metadata": {},
   "outputs": [],
   "source": [
    "def clean_text(text):\n",
    "    text = str(text).lower()\n",
    "    text = re.sub(r\"[^a-z0-9 ]\", \" \", text)\n",
    "    return re.sub(r\"\\s+\", \" \", text).strip()\n",
    "\n",
    "def clean_genres(text):\n",
    "    text = re.sub(r'[\\[\\]\\'\\\"]', '', str(text)).lower()\n",
    "    return text.replace(',', ' ').strip()\n",
    "\n",
    "extra_values_small['title'] = extra_values_small['title'].fillna('').apply(clean_text)\n",
    "extra_values_small['description'] = extra_values_small['description'].fillna('').apply(clean_text)\n",
    "extra_values_small['genres'] = extra_values_small['genres'].fillna('').apply(clean_genres)\n",
    "for col in ['director', 'actor1', 'actor2', 'actor3']:\n",
    "    extra_values_small[col] = extra_values_small[col].fillna('').apply(clean_text)\n"
   ]
  },
  {
   "cell_type": "code",
   "execution_count": 11,
   "id": "6123cc7a",
   "metadata": {},
   "outputs": [],
   "source": [
    "def create_text_soup(row):\n",
    "    return ' '.join([\n",
    "        (row['title'] + ' ') * 3,\n",
    "        (row['genres'] + ' ') * 3,\n",
    "        (row['director'] + ' ') * 2,\n",
    "        row['description'],\n",
    "        (row['actor1'] + ' ') * 2,\n",
    "        row['actor2'],\n",
    "        row['actor3']\n",
    "    ])\n",
    "\n",
    "shared_tmdb_ids = df_small['tmdbId'].unique()\n",
    "extra_values_filtered = extra_values_small[extra_values_small['tmdbId'].isin(shared_tmdb_ids)].drop_duplicates('tmdbId').reset_index(drop=True)\n",
    "extra_values_filtered['text_soup'] = extra_values_filtered.apply(create_text_soup, axis=1)"
   ]
  },
  {
   "cell_type": "code",
   "execution_count": 12,
   "id": "73f3b27a",
   "metadata": {},
   "outputs": [],
   "source": [
    "tfidf_vectorizer = TfidfVectorizer(\n",
    "    ngram_range=(1, 2),\n",
    "    max_features=10000,\n",
    "    stop_words='english',\n",
    "    strip_accents='unicode'\n",
    ")\n",
    "tfidf_matrix = tfidf_vectorizer.fit_transform(extra_values_filtered['text_soup'])\n",
    "tfidf_index = pd.Series(extra_values_filtered.index, index=extra_values_filtered['tmdbId']).drop_duplicates()"
   ]
  },
  {
   "cell_type": "code",
   "execution_count": 13,
   "id": "abaedbb0",
   "metadata": {},
   "outputs": [],
   "source": [
    "def train_ease(df, lambda_=10.0, user_map=None, item_map=None, topk=100):\n",
    "    if user_map is None:\n",
    "        user_map = {uid: idx for idx, uid in enumerate(df['userId'].unique())}\n",
    "    if item_map is None:\n",
    "        item_map = {mid: idx for idx, mid in enumerate(df['movieId'].unique())}\n",
    "    idx2item = {v: k for k, v in item_map.items()}\n",
    "    item_pop = df['movieId'].value_counts()\n",
    "    item_weights = 1 / np.sqrt(item_pop)\n",
    "    df['ease_weight'] = df['movieId'].map(item_weights)\n",
    "    rows = df['userId'].map(user_map)\n",
    "    cols = df['movieId'].map(item_map)\n",
    "    data = df['ease_weight'].values\n",
    "    X = sp.csr_matrix((data, (rows, cols)), shape=(len(user_map), len(item_map)))\n",
    "    G = X.T @ X\n",
    "    G = G.toarray()\n",
    "    diag = np.diag_indices_from(G)\n",
    "    G[diag] += lambda_\n",
    "    P = np.linalg.inv(G)\n",
    "    B = P / (-np.diag(P)[:, None])\n",
    "    B[diag] = 0\n",
    "    if topk is not None:\n",
    "        for i in range(B.shape[0]):\n",
    "            row = B[i]\n",
    "            if np.count_nonzero(row) > topk:\n",
    "                top_k_idx = np.argpartition(row, -topk)[-topk:]\n",
    "                mask = np.ones_like(row, dtype=bool)\n",
    "                mask[top_k_idx] = False\n",
    "                B[i, mask] = 0.0\n",
    "        B = csr_matrix(B)\n",
    "    return B, user_map, item_map, idx2item"
   ]
  },
  {
   "cell_type": "code",
   "execution_count": 14,
   "id": "732d6e22",
   "metadata": {},
   "outputs": [],
   "source": [
    "ease_B, ease_user_map, ease_item_map, ease_idx2item = train_ease(df_small, lambda_=10, topk=100)\n",
    "rows = df_small['userId'].map(ease_user_map)\n",
    "cols = df_small['movieId'].map(ease_item_map)\n",
    "data = df_small['ease_weight'].values\n",
    "X_small = sp.csr_matrix((data, (rows, cols)), shape=(len(ease_user_map), len(ease_item_map)))\n",
    "ease_all_scores = X_small @ ease_B\n",
    "if sp.issparse(ease_all_scores):\n",
    "    ease_all_scores = ease_all_scores.toarray()\n",
    "scaler = MinMaxScaler()\n",
    "ease_all_scores = scaler.fit_transform(ease_all_scores)"
   ]
  },
  {
   "cell_type": "code",
   "execution_count": 15,
   "id": "ea1b36da",
   "metadata": {},
   "outputs": [],
   "source": [
    "def get_hybrid_recommendations(user_id, top_n=10, weight_content=0.6):\n",
    "    scores = {}\n",
    "\n",
    "    # --- Collaborative (EASE) ---\n",
    "    if user_id in ease_user_map:\n",
    "        u_idx = ease_user_map[user_id]\n",
    "        ease_scores = ease_all_scores[u_idx].copy()\n",
    "        seen_movies = df_small[df_small['userId'] == user_id]['movieId']\n",
    "\n",
    "        for mid in seen_movies:\n",
    "            if mid in ease_item_map:\n",
    "                ease_scores[ease_item_map[mid]] = 0.0\n",
    "\n",
    "        for idx, score in enumerate(ease_scores):\n",
    "            movie_id = ease_idx2item[idx]\n",
    "            tmdb_id = movieId_to_tmdbId.get(movie_id)\n",
    "            if tmdb_id:\n",
    "                scores[tmdb_id] = (1 - weight_content) * score\n",
    "\n",
    "    # --- Content (TF-IDF) ---\n",
    "    liked_tmdb_ids = df_small[(df_small['userId'] == user_id) & (df_small['rating'] >= 4.0)]['tmdbId']\n",
    "    liked_indices = [tfidf_index.get(tmdb_id) for tmdb_id in liked_tmdb_ids if tmdb_id in tfidf_index]\n",
    "\n",
    "    tfidf_sim = np.zeros(tfidf_matrix.shape[0])\n",
    "    for idx in liked_indices:\n",
    "        if idx is not None:\n",
    "            tfidf_sim += cosine_similarity(tfidf_matrix[idx], tfidf_matrix).flatten()\n",
    "\n",
    "    if liked_indices:\n",
    "        tfidf_sim /= len(liked_indices)\n",
    "        for idx, score in enumerate(tfidf_sim):\n",
    "            tmdb_id = extra_values_filtered.iloc[idx]['tmdbId']\n",
    "            scores[tmdb_id] = scores.get(tmdb_id, 0) + weight_content * score\n",
    "\n",
    "    ranked = sorted(scores.items(), key=lambda x: x[1], reverse=True)\n",
    "    return [tmdb for tmdb, _ in ranked[:top_n]]\n"
   ]
  },
  {
   "cell_type": "code",
   "execution_count": 16,
   "id": "e8e8ef7a",
   "metadata": {},
   "outputs": [],
   "source": [
    "import joblib\n",
    "joblib.dump(tfidf_vectorizer, os.path.join(data_dir, \"tfidf_vectorizer.pkl\"))\n",
    "sp.save_npz(os.path.join(data_dir, \"tfidf_matrix.npz\"), tfidf_matrix)\n",
    "joblib.dump(ease_B, os.path.join(data_dir, \"ease_B.pkl\"))\n",
    "joblib.dump(ease_user_map, os.path.join(data_dir, \"ease_user_map.pkl\"))\n",
    "joblib.dump(ease_item_map, os.path.join(data_dir, \"ease_item_map.pkl\"))\n",
    "joblib.dump(ease_idx2item, os.path.join(data_dir, \"ease_idx2item.pkl\"))\n",
    "joblib.dump(movieId_to_tmdbId, os.path.join(data_dir, \"movieId_to_tmdbId.pkl\"))\n",
    "joblib.dump(tfidf_index, os.path.join(data_dir, \"tfidf_index.pkl\"))\n",
    "\n",
    "df_small.to_csv(os.path.join(data_dir, \"df_small.csv\"), index=False)\n",
    "extra_values_filtered.to_csv(os.path.join(data_dir, \"extra_values_filtered.csv\"), index=False)"
   ]
  }
 ],
 "metadata": {
  "kernelspec": {
   "display_name": "Python 3 (ipykernel)",
   "language": "python",
   "name": "python3"
  },
  "language_info": {
   "codemirror_mode": {
    "name": "ipython",
    "version": 3
   },
   "file_extension": ".py",
   "mimetype": "text/x-python",
   "name": "python",
   "nbconvert_exporter": "python",
   "pygments_lexer": "ipython3",
   "version": "3.11.5"
  }
 },
 "nbformat": 4,
 "nbformat_minor": 5
}
